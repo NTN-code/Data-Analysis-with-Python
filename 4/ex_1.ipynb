{
 "cells": [
  {
   "cell_type": "markdown",
   "id": "d4304f05-1155-4ccb-a3ec-be9ca71d868f",
   "metadata": {},
   "source": [
    "# Introduce with `Pandas`"
   ]
  },
  {
   "cell_type": "code",
   "execution_count": 1,
   "id": "5fcfa493-42bb-4a95-a80a-5caad020623a",
   "metadata": {},
   "outputs": [
    {
     "name": "stdout",
     "output_type": "stream",
     "text": [
      "1.2.4\n"
     ]
    }
   ],
   "source": [
    "import pandas as pd\n",
    "import numpy as np\n",
    "print(pd.__version__)"
   ]
  },
  {
   "cell_type": "code",
   "execution_count": null,
   "id": "cd7403e8-5df4-478a-adab-fb8d05c9d2be",
   "metadata": {},
   "outputs": [],
   "source": [
    "dir(pd)"
   ]
  },
  {
   "cell_type": "code",
   "execution_count": 2,
   "id": "7c7eea8a-d770-4941-835f-9279adf6b30f",
   "metadata": {},
   "outputs": [],
   "source": [
    "g7_group = pd.Series([100,123,123,1512,2141,231,525])"
   ]
  },
  {
   "cell_type": "code",
   "execution_count": 3,
   "id": "898f1cf1-81a3-40b2-b760-dd8082007f67",
   "metadata": {},
   "outputs": [
    {
     "data": {
      "text/plain": [
       "0     100\n",
       "1     123\n",
       "2     123\n",
       "3    1512\n",
       "4    2141\n",
       "5     231\n",
       "6     525\n",
       "dtype: int64"
      ]
     },
     "execution_count": 3,
     "metadata": {},
     "output_type": "execute_result"
    }
   ],
   "source": [
    "g7_group"
   ]
  },
  {
   "cell_type": "code",
   "execution_count": 4,
   "id": "454d1d7f-971e-4379-9ce3-f6840bea7b49",
   "metadata": {},
   "outputs": [
    {
     "data": {
      "text/plain": [
       "123"
      ]
     },
     "execution_count": 4,
     "metadata": {},
     "output_type": "execute_result"
    }
   ],
   "source": [
    "g7_group[1]"
   ]
  },
  {
   "cell_type": "code",
   "execution_count": 5,
   "id": "e7368b0d-733d-45f1-ba1f-0cf77ae6b4f0",
   "metadata": {},
   "outputs": [
    {
     "data": {
      "text/plain": [
       "RangeIndex(start=0, stop=7, step=1)"
      ]
     },
     "execution_count": 5,
     "metadata": {},
     "output_type": "execute_result"
    }
   ],
   "source": [
    "g7_group.index"
   ]
  },
  {
   "cell_type": "code",
   "execution_count": 7,
   "id": "55543550-3164-41e8-81dc-d416b86bd93f",
   "metadata": {},
   "outputs": [],
   "source": [
    "g7_group.name = 'G7 grouup population'"
   ]
  },
  {
   "cell_type": "code",
   "execution_count": 8,
   "id": "a6ef4f50-b48d-43b4-a8f8-a887e60c5988",
   "metadata": {},
   "outputs": [
    {
     "data": {
      "text/plain": [
       "0     100\n",
       "1     123\n",
       "2     123\n",
       "3    1512\n",
       "4    2141\n",
       "5     231\n",
       "6     525\n",
       "Name: G7 grouup population, dtype: int64"
      ]
     },
     "execution_count": 8,
     "metadata": {},
     "output_type": "execute_result"
    }
   ],
   "source": [
    "g7_group"
   ]
  },
  {
   "cell_type": "code",
   "execution_count": 9,
   "id": "65395655-49c1-48b0-971a-d4b363a908ab",
   "metadata": {},
   "outputs": [
    {
     "data": {
      "text/plain": [
       "array([ 100,  123,  123, 1512, 2141,  231,  525], dtype=int64)"
      ]
     },
     "execution_count": 9,
     "metadata": {},
     "output_type": "execute_result"
    }
   ],
   "source": [
    "g7_group.values"
   ]
  },
  {
   "cell_type": "code",
   "execution_count": 10,
   "id": "d1a70b96-2735-438f-a45a-ef8190091ebc",
   "metadata": {},
   "outputs": [
    {
     "data": {
      "text/plain": [
       "dtype('int64')"
      ]
     },
     "execution_count": 10,
     "metadata": {},
     "output_type": "execute_result"
    }
   ],
   "source": [
    "g7_group.dtype"
   ]
  },
  {
   "cell_type": "code",
   "execution_count": 18,
   "id": "0f007639-a5ba-43e2-a444-c91a7b3ec12f",
   "metadata": {},
   "outputs": [],
   "source": [
    "g7_group.index = [\n",
    "    'USA',\n",
    "    'France',\n",
    "    'Italy',\n",
    "    'Russian',\n",
    "    'China',\n",
    "    'Germany',\n",
    "    'UK',\n",
    "]"
   ]
  },
  {
   "cell_type": "code",
   "execution_count": 19,
   "id": "4d8718de-a55e-4a3e-baa8-36f600274fb1",
   "metadata": {},
   "outputs": [
    {
     "data": {
      "text/plain": [
       "USA         100\n",
       "France      123\n",
       "Italy       123\n",
       "Russian    1512\n",
       "China      2141\n",
       "Germany     231\n",
       "UK          525\n",
       "Name: G7 grouup population, dtype: int64"
      ]
     },
     "execution_count": 19,
     "metadata": {},
     "output_type": "execute_result"
    }
   ],
   "source": [
    "g7_group"
   ]
  },
  {
   "cell_type": "code",
   "execution_count": 20,
   "id": "185e7493-63f5-446e-ae74-4309e2cfa98d",
   "metadata": {},
   "outputs": [
    {
     "data": {
      "text/plain": [
       "1512"
      ]
     },
     "execution_count": 20,
     "metadata": {},
     "output_type": "execute_result"
    }
   ],
   "source": [
    "g7_group['Russian']"
   ]
  },
  {
   "cell_type": "code",
   "execution_count": 22,
   "id": "032c4c8b-8186-4c72-9913-312cf1096144",
   "metadata": {},
   "outputs": [],
   "source": [
    "g7_proup = pd.Series({\n",
    "    'Canada': 35.467,\n",
    "    'France': 63.951,\n",
    "    'Germany': 80.94,\n",
    "}, name='G7 new rate')"
   ]
  },
  {
   "cell_type": "code",
   "execution_count": 23,
   "id": "206bbfe2-e53e-4fa0-ba6c-06689068d846",
   "metadata": {},
   "outputs": [
    {
     "data": {
      "text/plain": [
       "Canada     35.467\n",
       "France     63.951\n",
       "Germany    80.940\n",
       "Name: G7 new rate, dtype: float64"
      ]
     },
     "execution_count": 23,
     "metadata": {},
     "output_type": "execute_result"
    }
   ],
   "source": [
    "g7_proup"
   ]
  },
  {
   "cell_type": "code",
   "execution_count": 24,
   "id": "0a28db72-63f2-4f1f-a727-7d7f0659310e",
   "metadata": {},
   "outputs": [
    {
     "data": {
      "text/plain": [
       "USA         100\n",
       "France      123\n",
       "Italy       123\n",
       "Russian    1512\n",
       "China      2141\n",
       "Germany     231\n",
       "UK          525\n",
       "Name: G7 grouup population, dtype: int64"
      ]
     },
     "execution_count": 24,
     "metadata": {},
     "output_type": "execute_result"
    }
   ],
   "source": [
    "g7_group"
   ]
  },
  {
   "cell_type": "code",
   "execution_count": 25,
   "id": "3023ee34-fd9b-4de7-b6a6-74a25c9ddeca",
   "metadata": {},
   "outputs": [
    {
     "data": {
      "text/plain": [
       "100"
      ]
     },
     "execution_count": 25,
     "metadata": {},
     "output_type": "execute_result"
    }
   ],
   "source": [
    "g7_group.iloc[0]"
   ]
  },
  {
   "cell_type": "code",
   "execution_count": 26,
   "id": "07ec83e2-fed4-4809-a888-1e97b1fe3c41",
   "metadata": {},
   "outputs": [
    {
     "data": {
      "text/plain": [
       "123"
      ]
     },
     "execution_count": 26,
     "metadata": {},
     "output_type": "execute_result"
    }
   ],
   "source": [
    "g7_group.iloc[1]"
   ]
  },
  {
   "cell_type": "code",
   "execution_count": 28,
   "id": "666df8f2-37f6-40da-a72c-0b9d41a40146",
   "metadata": {},
   "outputs": [
    {
     "data": {
      "text/plain": [
       "USA       100\n",
       "France    123\n",
       "Italy     123\n",
       "Name: G7 grouup population, dtype: int64"
      ]
     },
     "execution_count": 28,
     "metadata": {},
     "output_type": "execute_result"
    }
   ],
   "source": [
    "g7_group.iloc[0:3]"
   ]
  },
  {
   "cell_type": "code",
   "execution_count": 30,
   "id": "444d19a4-19d7-4716-adf2-ad0dc33fb21c",
   "metadata": {},
   "outputs": [
    {
     "data": {
      "text/plain": [
       "USA        100\n",
       "Germany    231\n",
       "UK         525\n",
       "Name: G7 grouup population, dtype: int64"
      ]
     },
     "execution_count": 30,
     "metadata": {},
     "output_type": "execute_result"
    }
   ],
   "source": [
    "g7_group.iloc[[0,5,6]]"
   ]
  },
  {
   "cell_type": "code",
   "execution_count": 31,
   "id": "306772ed-dd4a-435d-abe8-3062e7663c99",
   "metadata": {},
   "outputs": [
    {
     "data": {
      "text/plain": [
       "Italy     123\n",
       "France    123\n",
       "Name: G7 grouup population, dtype: int64"
      ]
     },
     "execution_count": 31,
     "metadata": {},
     "output_type": "execute_result"
    }
   ],
   "source": [
    "g7_group[['Italy','France']]"
   ]
  },
  {
   "cell_type": "code",
   "execution_count": 33,
   "id": "cf73dd66-d1b8-46c2-8042-248b66e2e283",
   "metadata": {},
   "outputs": [
    {
     "data": {
      "text/plain": [
       "USA         100\n",
       "France      123\n",
       "Italy       123\n",
       "Russian    1512\n",
       "Name: G7 grouup population, dtype: int64"
      ]
     },
     "execution_count": 33,
     "metadata": {},
     "output_type": "execute_result"
    }
   ],
   "source": [
    "g7_group['USA':'Russian']"
   ]
  },
  {
   "cell_type": "code",
   "execution_count": 35,
   "id": "89ab957e-4753-4757-b2a9-6bbd98181b67",
   "metadata": {},
   "outputs": [
    {
     "data": {
      "text/plain": [
       "USA        False\n",
       "France     False\n",
       "Italy      False\n",
       "Russian     True\n",
       "China       True\n",
       "Germany     True\n",
       "UK          True\n",
       "Name: G7 grouup population, dtype: bool"
      ]
     },
     "execution_count": 35,
     "metadata": {},
     "output_type": "execute_result"
    }
   ],
   "source": [
    "g7_group > 150"
   ]
  },
  {
   "cell_type": "code",
   "execution_count": 36,
   "id": "2faa5f01-d6e1-48e3-bd90-006dd9d554b4",
   "metadata": {},
   "outputs": [
    {
     "data": {
      "text/plain": [
       "Russian    1512\n",
       "China      2141\n",
       "Germany     231\n",
       "UK          525\n",
       "Name: G7 grouup population, dtype: int64"
      ]
     },
     "execution_count": 36,
     "metadata": {},
     "output_type": "execute_result"
    }
   ],
   "source": [
    "x = g7_group[g7_group > 150]\n",
    "x"
   ]
  },
  {
   "cell_type": "code",
   "execution_count": 37,
   "id": "1f881c16-9736-45ab-8b4b-69812aa63426",
   "metadata": {},
   "outputs": [
    {
     "data": {
      "text/plain": [
       "USA        False\n",
       "France     False\n",
       "Italy      False\n",
       "Russian     True\n",
       "China       True\n",
       "Germany     True\n",
       "UK          True\n",
       "Name: G7 grouup population, dtype: bool"
      ]
     },
     "execution_count": 37,
     "metadata": {},
     "output_type": "execute_result"
    }
   ],
   "source": [
    "a = g7_group > 150\n",
    "a"
   ]
  },
  {
   "cell_type": "code",
   "execution_count": 38,
   "id": "121273eb-af0a-47e9-bde9-9770a7600886",
   "metadata": {},
   "outputs": [
    {
     "data": {
      "text/plain": [
       "679.2857142857143"
      ]
     },
     "execution_count": 38,
     "metadata": {},
     "output_type": "execute_result"
    }
   ],
   "source": [
    "g7_group.mean()"
   ]
  },
  {
   "cell_type": "code",
   "execution_count": 39,
   "id": "8432ea31-6ad1-4baa-89ec-1e965dcac62e",
   "metadata": {},
   "outputs": [
    {
     "data": {
      "text/plain": [
       "231.0"
      ]
     },
     "execution_count": 39,
     "metadata": {},
     "output_type": "execute_result"
    }
   ],
   "source": [
    "g7_group.median()"
   ]
  },
  {
   "cell_type": "code",
   "execution_count": 40,
   "id": "50b42df8-d7bc-4de4-a39e-a86ed7068899",
   "metadata": {},
   "outputs": [
    {
     "data": {
      "text/plain": [
       "2141"
      ]
     },
     "execution_count": 40,
     "metadata": {},
     "output_type": "execute_result"
    }
   ],
   "source": [
    "g7_group.max()"
   ]
  },
  {
   "cell_type": "code",
   "execution_count": 41,
   "id": "8c3cf667-6747-4203-a4f5-bdf7889a63f0",
   "metadata": {},
   "outputs": [
    {
     "data": {
      "text/plain": [
       "4755"
      ]
     },
     "execution_count": 41,
     "metadata": {},
     "output_type": "execute_result"
    }
   ],
   "source": [
    "g7_group.sum()"
   ]
  },
  {
   "cell_type": "code",
   "execution_count": 42,
   "id": "8dd41f29-34a4-4138-92c9-cb460361bb57",
   "metadata": {},
   "outputs": [
    {
     "data": {
      "text/plain": [
       "100"
      ]
     },
     "execution_count": 42,
     "metadata": {},
     "output_type": "execute_result"
    }
   ],
   "source": [
    "g7_group.min()"
   ]
  },
  {
   "cell_type": "code",
   "execution_count": 46,
   "id": "5b02f576-94a5-4e9f-83bc-208f02b95124",
   "metadata": {},
   "outputs": [
    {
     "data": {
      "text/plain": [
       "China      2141\n",
       "France      123\n",
       "Germany     231\n",
       "Italy       123\n",
       "Russian    1512\n",
       "UK          525\n",
       "USA         100\n",
       "Name: G7 grouup population, dtype: int64"
      ]
     },
     "execution_count": 46,
     "metadata": {},
     "output_type": "execute_result"
    }
   ],
   "source": [
    "g7_group.sort_index()"
   ]
  },
  {
   "cell_type": "code",
   "execution_count": 45,
   "id": "50862cd2-4bf1-42fe-8580-6d16b131164e",
   "metadata": {},
   "outputs": [
    {
     "data": {
      "text/plain": [
       "USA         100\n",
       "France      123\n",
       "Italy       123\n",
       "Germany     231\n",
       "UK          525\n",
       "Russian    1512\n",
       "China      2141\n",
       "Name: G7 grouup population, dtype: int64"
      ]
     },
     "execution_count": 45,
     "metadata": {},
     "output_type": "execute_result"
    }
   ],
   "source": [
    "g7_group.sort_values()"
   ]
  },
  {
   "cell_type": "code",
   "execution_count": 50,
   "id": "434cf7b9-4326-4c65-b8b2-0c050a125386",
   "metadata": {},
   "outputs": [
    {
     "data": {
      "text/plain": [
       "USA        4.605170\n",
       "France     4.812184\n",
       "Italy      4.812184\n",
       "Russian    7.321189\n",
       "China      7.669028\n",
       "Germany    5.442418\n",
       "UK         6.263398\n",
       "Name: G7 grouup population, dtype: float64"
      ]
     },
     "execution_count": 50,
     "metadata": {},
     "output_type": "execute_result"
    }
   ],
   "source": [
    "np.log(g7_group)"
   ]
  },
  {
   "cell_type": "markdown",
   "id": "bf14070a-c46e-45e2-b286-1cccacfb8200",
   "metadata": {},
   "source": [
    "# Homework `Pandas`"
   ]
  },
  {
   "cell_type": "code",
   "execution_count": 51,
   "id": "7d22557a-481e-490a-816d-efcc857919a8",
   "metadata": {},
   "outputs": [
    {
     "name": "stderr",
     "output_type": "stream",
     "text": [
      "<ipython-input-51-bfe4366ff14d>:1: DeprecationWarning: The default dtype for empty Series will be 'object' instead of 'float64' in a future version. Specify a dtype explicitly to silence this warning.\n",
      "  empty_series = pd.Series()\n"
     ]
    }
   ],
   "source": [
    "empty_series = pd.Series()"
   ]
  },
  {
   "cell_type": "code",
   "execution_count": 52,
   "id": "6017df86-73f2-4394-83eb-e08b0c307bfd",
   "metadata": {},
   "outputs": [
    {
     "data": {
      "text/plain": [
       "Series([], dtype: float64)"
      ]
     },
     "execution_count": 52,
     "metadata": {},
     "output_type": "execute_result"
    }
   ],
   "source": [
    "empty_series"
   ]
  },
  {
   "cell_type": "code",
   "execution_count": 54,
   "id": "cc90c4aa-a8f5-48c8-825d-047e86a76569",
   "metadata": {},
   "outputs": [
    {
     "data": {
      "text/plain": [
       "[0, 1, 4, 9, 16, 25, 36, 49, 64, 81]"
      ]
     },
     "execution_count": 54,
     "metadata": {},
     "output_type": "execute_result"
    }
   ],
   "source": [
    "l = [x**2 for x in range(10)]\n",
    "l"
   ]
  },
  {
   "cell_type": "code",
   "execution_count": 56,
   "id": "d6520a02-fba1-4bca-a3fd-c36c311fcd86",
   "metadata": {},
   "outputs": [
    {
     "data": {
      "text/plain": [
       "0     0\n",
       "1     1\n",
       "2     4\n",
       "3     9\n",
       "4    16\n",
       "5    25\n",
       "6    36\n",
       "7    49\n",
       "8    64\n",
       "9    81\n",
       "dtype: int64"
      ]
     },
     "execution_count": 56,
     "metadata": {},
     "output_type": "execute_result"
    }
   ],
   "source": [
    "new_l = pd.Series(l)\n",
    "new_l"
   ]
  },
  {
   "cell_type": "code",
   "execution_count": 58,
   "id": "90cd3eae-90a9-4a10-9998-52091d0037fa",
   "metadata": {},
   "outputs": [
    {
     "data": {
      "text/plain": [
       "0     0\n",
       "1     1\n",
       "2     4\n",
       "3     9\n",
       "4    16\n",
       "5    25\n",
       "6    36\n",
       "7    49\n",
       "8    64\n",
       "9    81\n",
       "Name: My letters, dtype: int64"
      ]
     },
     "execution_count": 58,
     "metadata": {},
     "output_type": "execute_result"
    }
   ],
   "source": [
    "new_l.name = 'My letters'\n",
    "new_l"
   ]
  },
  {
   "cell_type": "code",
   "execution_count": 59,
   "id": "58bb77eb-accc-4ad8-b7c3-d537276b3a01",
   "metadata": {},
   "outputs": [
    {
     "data": {
      "text/plain": [
       "array([ 0,  1,  4,  9, 16, 25, 36, 49, 64, 81], dtype=int64)"
      ]
     },
     "execution_count": 59,
     "metadata": {},
     "output_type": "execute_result"
    }
   ],
   "source": [
    "new_l.values"
   ]
  },
  {
   "cell_type": "code",
   "execution_count": 60,
   "id": "19681eff-36c9-4da2-b5b5-81731e5b3185",
   "metadata": {},
   "outputs": [
    {
     "data": {
      "text/plain": [
       "0"
      ]
     },
     "execution_count": 60,
     "metadata": {},
     "output_type": "execute_result"
    }
   ],
   "source": [
    "new_l[0]"
   ]
  },
  {
   "cell_type": "code",
   "execution_count": 61,
   "id": "a2e1a93f-82fa-48a8-82d2-1755e1830904",
   "metadata": {},
   "outputs": [],
   "source": [
    "alphabet = pd.Series(['A','B','C'], index=['first','second','third'])"
   ]
  },
  {
   "cell_type": "code",
   "execution_count": 62,
   "id": "dba358c8-0bc9-4658-a9f3-7c901e32310d",
   "metadata": {},
   "outputs": [
    {
     "data": {
      "text/plain": [
       "first     A\n",
       "second    B\n",
       "third     C\n",
       "dtype: object"
      ]
     },
     "execution_count": 62,
     "metadata": {},
     "output_type": "execute_result"
    }
   ],
   "source": [
    "alphabet"
   ]
  },
  {
   "cell_type": "code",
   "execution_count": 63,
   "id": "abea8d82-5bc8-4322-9bb2-c91a8f832ae1",
   "metadata": {},
   "outputs": [
    {
     "data": {
      "text/plain": [
       "'A'"
      ]
     },
     "execution_count": 63,
     "metadata": {},
     "output_type": "execute_result"
    }
   ],
   "source": [
    "alphabet[0]"
   ]
  },
  {
   "cell_type": "code",
   "execution_count": 64,
   "id": "3f458e45-2ff8-41f9-b0ba-b3573cdfaa75",
   "metadata": {},
   "outputs": [
    {
     "name": "stdout",
     "output_type": "stream",
     "text": [
      "Wall time: 998 µs\n"
     ]
    },
    {
     "data": {
      "text/plain": [
       "'A'"
      ]
     },
     "execution_count": 64,
     "metadata": {},
     "output_type": "execute_result"
    }
   ],
   "source": [
    "%time alphabet['first']"
   ]
  },
  {
   "cell_type": "code",
   "execution_count": 65,
   "id": "211817b5-5404-43f1-a3e5-4cb59b5d683f",
   "metadata": {},
   "outputs": [
    {
     "data": {
      "text/plain": [
       "'C'"
      ]
     },
     "execution_count": 65,
     "metadata": {},
     "output_type": "execute_result"
    }
   ],
   "source": [
    "alphabet[-1]"
   ]
  },
  {
   "cell_type": "code",
   "execution_count": 66,
   "id": "4efb2daf-e9c1-4c8e-bc7e-d49e21a0eedc",
   "metadata": {},
   "outputs": [
    {
     "data": {
      "text/plain": [
       "second    B\n",
       "dtype: object"
      ]
     },
     "execution_count": 66,
     "metadata": {},
     "output_type": "execute_result"
    }
   ],
   "source": [
    "alphabet[1:-1]"
   ]
  },
  {
   "cell_type": "code",
   "execution_count": 67,
   "id": "7e7d0748-e9de-4c08-8a1c-c1f31fa45c03",
   "metadata": {},
   "outputs": [],
   "source": [
    "alphabet = pd.Series(['A','B','C','D','E'],\n",
    "              index=['first','second','third','forth','fifth'])\n"
   ]
  },
  {
   "cell_type": "code",
   "execution_count": 68,
   "id": "f99c3dab-f101-4f60-b980-b433beabbc99",
   "metadata": {},
   "outputs": [
    {
     "data": {
      "text/plain": [
       "fifth     E\n",
       "forth     D\n",
       "third     C\n",
       "second    B\n",
       "first     A\n",
       "dtype: object"
      ]
     },
     "execution_count": 68,
     "metadata": {},
     "output_type": "execute_result"
    }
   ],
   "source": [
    "alphabet[::-1]"
   ]
  },
  {
   "cell_type": "code",
   "execution_count": 69,
   "id": "170013ad-dd4f-41e5-8e31-c4647df8cc9e",
   "metadata": {},
   "outputs": [
    {
     "data": {
      "text/plain": [
       "first    A\n",
       "fifth    E\n",
       "dtype: object"
      ]
     },
     "execution_count": 69,
     "metadata": {},
     "output_type": "execute_result"
    }
   ],
   "source": [
    "alphabet[[0,-1]]"
   ]
  },
  {
   "cell_type": "code",
   "execution_count": 70,
   "id": "3dbb9ac4-dd8a-4cac-93b3-3839814f4f79",
   "metadata": {},
   "outputs": [],
   "source": [
    "alphabet = pd.Series([x for x in range(10)])"
   ]
  },
  {
   "cell_type": "code",
   "execution_count": 71,
   "id": "f4ce009b-0f7b-4349-b1f4-4de0593397b8",
   "metadata": {},
   "outputs": [
    {
     "data": {
      "text/plain": [
       "0    0\n",
       "1    1\n",
       "2    2\n",
       "3    3\n",
       "4    4\n",
       "5    5\n",
       "6    6\n",
       "7    7\n",
       "8    8\n",
       "9    9\n",
       "dtype: int64"
      ]
     },
     "execution_count": 71,
     "metadata": {},
     "output_type": "execute_result"
    }
   ],
   "source": [
    "alphabet"
   ]
  },
  {
   "cell_type": "code",
   "execution_count": 73,
   "id": "4121016f-df73-432a-8c2b-3fe14b7d10b6",
   "metadata": {},
   "outputs": [
    {
     "name": "stderr",
     "output_type": "stream",
     "text": [
      "<ipython-input-73-cd4286863c1e>:1: DeprecationWarning: `np.float` is a deprecated alias for the builtin `float`. To silence this warning, use `float` by itself. Doing this will not modify any behavior and is safe. If you specifically wanted the numpy scalar type, use `np.float64` here.\n",
      "Deprecated in NumPy 1.20; for more details and guidance: https://numpy.org/devdocs/release/1.20.0-notes.html#deprecations\n",
      "  alphabet1 = pd.Series(alphabet, dtype=np.float)\n"
     ]
    }
   ],
   "source": [
    "alphabet1 = pd.Series(alphabet, dtype=np.float)"
   ]
  },
  {
   "cell_type": "code",
   "execution_count": 74,
   "id": "e58699d0-7c43-41a6-8500-46b11cae5023",
   "metadata": {},
   "outputs": [
    {
     "data": {
      "text/plain": [
       "0    0.0\n",
       "1    1.0\n",
       "2    2.0\n",
       "3    3.0\n",
       "4    4.0\n",
       "5    5.0\n",
       "6    6.0\n",
       "7    7.0\n",
       "8    8.0\n",
       "9    9.0\n",
       "dtype: float64"
      ]
     },
     "execution_count": 74,
     "metadata": {},
     "output_type": "execute_result"
    }
   ],
   "source": [
    "alphabet1"
   ]
  },
  {
   "cell_type": "code",
   "execution_count": 75,
   "id": "ebe3029c-8654-4137-8a83-bdf9f18d993e",
   "metadata": {},
   "outputs": [
    {
     "data": {
      "text/plain": [
       "0    0\n",
       "1    1\n",
       "2    2\n",
       "3    3\n",
       "4    4\n",
       "5    5\n",
       "6    6\n",
       "7    7\n",
       "8    8\n",
       "9    9\n",
       "dtype: int64"
      ]
     },
     "execution_count": 75,
     "metadata": {},
     "output_type": "execute_result"
    }
   ],
   "source": [
    "alphabet"
   ]
  },
  {
   "cell_type": "code",
   "execution_count": 77,
   "id": "779f310a-d38d-4a5f-9fc6-cc4aff598155",
   "metadata": {},
   "outputs": [
    {
     "data": {
      "text/plain": [
       "first     1\n",
       "second    2\n",
       "third     3\n",
       "forth     4\n",
       "fifth     5\n",
       "dtype: int64"
      ]
     },
     "execution_count": 77,
     "metadata": {},
     "output_type": "execute_result"
    }
   ],
   "source": [
    "alphabet = X = pd.Series([1,2,3,4,5],\n",
    "              index=['first','second','third','forth','fifth'])\n",
    "alphabet"
   ]
  },
  {
   "cell_type": "code",
   "execution_count": 78,
   "id": "3644d4eb-f0ce-4cb9-8871-a00dd5b240e3",
   "metadata": {},
   "outputs": [
    {
     "data": {
      "text/plain": [
       "fifth     5\n",
       "first     1\n",
       "forth     4\n",
       "second    2\n",
       "third     3\n",
       "dtype: int64"
      ]
     },
     "execution_count": 78,
     "metadata": {},
     "output_type": "execute_result"
    }
   ],
   "source": [
    "alphabet.sort_index()"
   ]
  },
  {
   "cell_type": "code",
   "execution_count": 83,
   "id": "c1a9468d-d73d-43cd-bdb1-761b164c3030",
   "metadata": {},
   "outputs": [
    {
     "data": {
      "text/plain": [
       "first     1\n",
       "second    2\n",
       "third     3\n",
       "forth     4\n",
       "fifth     5\n",
       "dtype: int64"
      ]
     },
     "execution_count": 83,
     "metadata": {},
     "output_type": "execute_result"
    }
   ],
   "source": [
    "alphabet.sort_values()"
   ]
  },
  {
   "cell_type": "code",
   "execution_count": 88,
   "id": "ae3767dc-a87c-458e-923a-faa52bb175ab",
   "metadata": {},
   "outputs": [],
   "source": [
    "alphabet[4] = 10"
   ]
  },
  {
   "cell_type": "code",
   "execution_count": 89,
   "id": "fbb7fb3e-427f-49dc-9adb-662742b003ff",
   "metadata": {},
   "outputs": [],
   "source": [
    "alphabet[1:-1] = 0"
   ]
  },
  {
   "cell_type": "code",
   "execution_count": 90,
   "id": "b30384fc-156d-4e50-b62b-a7b24b46387d",
   "metadata": {},
   "outputs": [
    {
     "data": {
      "text/plain": [
       "first      1\n",
       "second     0\n",
       "third      0\n",
       "forth      0\n",
       "fifth     10\n",
       "dtype: int64"
      ]
     },
     "execution_count": 90,
     "metadata": {},
     "output_type": "execute_result"
    }
   ],
   "source": [
    "alphabet"
   ]
  },
  {
   "cell_type": "code",
   "execution_count": 91,
   "id": "ac678c4d-a1e7-4ba2-afea-7f57494780d7",
   "metadata": {},
   "outputs": [],
   "source": [
    "alphabet += 5"
   ]
  },
  {
   "cell_type": "code",
   "execution_count": 92,
   "id": "7860301e-6149-43e8-aff0-d6beaf4e4b8a",
   "metadata": {},
   "outputs": [
    {
     "data": {
      "text/plain": [
       "first      6\n",
       "second     5\n",
       "third      5\n",
       "forth      5\n",
       "fifth     15\n",
       "dtype: int64"
      ]
     },
     "execution_count": 92,
     "metadata": {},
     "output_type": "execute_result"
    }
   ],
   "source": [
    "alphabet\n"
   ]
  },
  {
   "cell_type": "code",
   "execution_count": 94,
   "id": "0d7abc65-b15b-4d90-b5a4-d2d212d11559",
   "metadata": {},
   "outputs": [
    {
     "data": {
      "text/plain": [
       "first       6\n",
       "second      5\n",
       "third       5\n",
       "forth    -195\n",
       "fifth      15\n",
       "dtype: int64"
      ]
     },
     "execution_count": 94,
     "metadata": {},
     "output_type": "execute_result"
    }
   ],
   "source": [
    "alphabet[3] -= 100\n",
    "alphabet"
   ]
  },
  {
   "cell_type": "code",
   "execution_count": 95,
   "id": "53cdb871-2477-4d48-8f9f-4974a92e0598",
   "metadata": {},
   "outputs": [
    {
     "data": {
      "text/plain": [
       "first     False\n",
       "second    False\n",
       "third     False\n",
       "forth      True\n",
       "fifth     False\n",
       "dtype: bool"
      ]
     },
     "execution_count": 95,
     "metadata": {},
     "output_type": "execute_result"
    }
   ],
   "source": [
    "alphabet < 0"
   ]
  },
  {
   "cell_type": "code",
   "execution_count": 97,
   "id": "761d66e1-2bbc-419f-a49a-80f1aef79c5c",
   "metadata": {},
   "outputs": [
    {
     "data": {
      "text/plain": [
       "first     False\n",
       "second    False\n",
       "third     False\n",
       "forth      True\n",
       "fifth     False\n",
       "dtype: bool"
      ]
     },
     "execution_count": 97,
     "metadata": {},
     "output_type": "execute_result"
    }
   ],
   "source": [
    "mask = alphabet < 0\n",
    "mask"
   ]
  },
  {
   "cell_type": "code",
   "execution_count": 98,
   "id": "8d42fd45-46d3-4b50-b980-2a97c1e6f6c6",
   "metadata": {},
   "outputs": [],
   "source": [
    "neg_values = alphabet[alphabet < 0]"
   ]
  },
  {
   "cell_type": "code",
   "execution_count": 99,
   "id": "046e9304-a6c1-4526-9343-c3fbbc758155",
   "metadata": {},
   "outputs": [
    {
     "data": {
      "text/plain": [
       "forth   -195\n",
       "dtype: int64"
      ]
     },
     "execution_count": 99,
     "metadata": {},
     "output_type": "execute_result"
    }
   ],
   "source": [
    "neg_values"
   ]
  },
  {
   "cell_type": "code",
   "execution_count": 100,
   "id": "bbf2d1ad-e80f-43aa-88dc-4906b1655984",
   "metadata": {},
   "outputs": [],
   "source": [
    "new_values = alphabet[alphabet > 5]"
   ]
  },
  {
   "cell_type": "code",
   "execution_count": 101,
   "id": "e75fd07a-65f9-4782-9e6a-44bd1e1144c3",
   "metadata": {},
   "outputs": [
    {
     "data": {
      "text/plain": [
       "first     6\n",
       "fifth    15\n",
       "dtype: int64"
      ]
     },
     "execution_count": 101,
     "metadata": {},
     "output_type": "execute_result"
    }
   ],
   "source": [
    "new_values"
   ]
  },
  {
   "cell_type": "code",
   "execution_count": 104,
   "id": "2eaf4289-5fa9-4499-a3e8-de067af8c73b",
   "metadata": {},
   "outputs": [
    {
     "data": {
      "text/plain": [
       "-32.8"
      ]
     },
     "execution_count": 104,
     "metadata": {},
     "output_type": "execute_result"
    }
   ],
   "source": [
    "more_mean = alphabet[alphabet > alphabet.mean()]\n",
    "alphabet.mean()"
   ]
  },
  {
   "cell_type": "code",
   "execution_count": 103,
   "id": "52cb077a-ee94-485e-a0de-81a89cbcb286",
   "metadata": {},
   "outputs": [
    {
     "data": {
      "text/plain": [
       "first      6\n",
       "second     5\n",
       "third      5\n",
       "fifth     15\n",
       "dtype: int64"
      ]
     },
     "execution_count": 103,
     "metadata": {},
     "output_type": "execute_result"
    }
   ],
   "source": [
    "more_mean"
   ]
  },
  {
   "cell_type": "code",
   "execution_count": 105,
   "id": "715a8b7d-c0c0-4b8f-8116-879f454f10c7",
   "metadata": {},
   "outputs": [],
   "source": [
    "new_con = alphabet[(alphabet == 2) | (alphabet == 10)]"
   ]
  },
  {
   "cell_type": "code",
   "execution_count": 106,
   "id": "0f3a6057-a167-4869-b998-525c715b2028",
   "metadata": {},
   "outputs": [
    {
     "data": {
      "text/plain": [
       "Series([], dtype: int64)"
      ]
     },
     "execution_count": 106,
     "metadata": {},
     "output_type": "execute_result"
    }
   ],
   "source": [
    "new_con"
   ]
  },
  {
   "cell_type": "code",
   "execution_count": 107,
   "id": "b338911c-c5e4-492c-9183-64c26b5a57a0",
   "metadata": {},
   "outputs": [
    {
     "data": {
      "text/plain": [
       "True"
      ]
     },
     "execution_count": 107,
     "metadata": {},
     "output_type": "execute_result"
    }
   ],
   "source": [
    "alphabet.all()"
   ]
  },
  {
   "cell_type": "code",
   "execution_count": 108,
   "id": "2c00b6dd-557f-4cec-9a83-21347d6c4e41",
   "metadata": {},
   "outputs": [
    {
     "data": {
      "text/plain": [
       "False"
      ]
     },
     "execution_count": 108,
     "metadata": {},
     "output_type": "execute_result"
    }
   ],
   "source": [
    "~alphabet.all()"
   ]
  },
  {
   "cell_type": "code",
   "execution_count": 109,
   "id": "c9683d6e-2c82-4584-a670-05656243fb56",
   "metadata": {},
   "outputs": [
    {
     "data": {
      "text/plain": [
       "-164"
      ]
     },
     "execution_count": 109,
     "metadata": {},
     "output_type": "execute_result"
    }
   ],
   "source": [
    "alphabet.sum()"
   ]
  },
  {
   "cell_type": "code",
   "execution_count": 110,
   "id": "66176683-1083-4c8c-9795-5ca4bfc42239",
   "metadata": {},
   "outputs": [
    {
     "data": {
      "text/plain": [
       "-32.8"
      ]
     },
     "execution_count": 110,
     "metadata": {},
     "output_type": "execute_result"
    }
   ],
   "source": [
    "alphabet.mean()"
   ]
  },
  {
   "cell_type": "code",
   "execution_count": 111,
   "id": "2303f0f2-9c99-41ba-a221-0553ad43e077",
   "metadata": {},
   "outputs": [
    {
     "data": {
      "text/plain": [
       "90.77003910982963"
      ]
     },
     "execution_count": 111,
     "metadata": {},
     "output_type": "execute_result"
    }
   ],
   "source": [
    "alphabet.std()"
   ]
  },
  {
   "cell_type": "code",
   "execution_count": 112,
   "id": "00eda767-b255-47b5-b3f8-2c66bb558ced",
   "metadata": {},
   "outputs": [
    {
     "data": {
      "text/plain": [
       "15"
      ]
     },
     "execution_count": 112,
     "metadata": {},
     "output_type": "execute_result"
    }
   ],
   "source": [
    "alphabet.max()"
   ]
  },
  {
   "cell_type": "code",
   "execution_count": 113,
   "id": "b2491159-05c2-4c00-826f-44674da3bc2d",
   "metadata": {},
   "outputs": [
    {
     "data": {
      "text/plain": [
       "-195"
      ]
     },
     "execution_count": 113,
     "metadata": {},
     "output_type": "execute_result"
    }
   ],
   "source": [
    "alphabet.min()"
   ]
  },
  {
   "cell_type": "code",
   "execution_count": 114,
   "id": "f0892615-3b25-429f-846d-051c539fb13d",
   "metadata": {},
   "outputs": [
    {
     "data": {
      "text/plain": [
       "5.0"
      ]
     },
     "execution_count": 114,
     "metadata": {},
     "output_type": "execute_result"
    }
   ],
   "source": [
    "alphabet.median()"
   ]
  },
  {
   "cell_type": "code",
   "execution_count": null,
   "id": "a17fa80e-67a1-425a-aa4b-7382ffe26b16",
   "metadata": {},
   "outputs": [],
   "source": []
  }
 ],
 "metadata": {
  "kernelspec": {
   "display_name": "Python 3",
   "language": "python",
   "name": "python3"
  },
  "language_info": {
   "codemirror_mode": {
    "name": "ipython",
    "version": 3
   },
   "file_extension": ".py",
   "mimetype": "text/x-python",
   "name": "python",
   "nbconvert_exporter": "python",
   "pygments_lexer": "ipython3",
   "version": "3.8.8"
  }
 },
 "nbformat": 4,
 "nbformat_minor": 5
}
