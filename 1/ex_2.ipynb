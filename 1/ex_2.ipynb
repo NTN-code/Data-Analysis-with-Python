{
 "cells": [
  {
   "cell_type": "markdown",
   "id": "f1d967d9",
   "metadata": {},
   "source": [
    "<h1>Exercises 2</h1>\n",
    "<p>matplotlib and SQL</p>"
   ]
  },
  {
   "cell_type": "code",
   "execution_count": 1,
   "id": "be58b7bf",
   "metadata": {},
   "outputs": [],
   "source": [
    "import pandas as pd\n",
    "import numpy as np\n",
    "import matplotlib.pyplot as plt\n",
    "import sqlite3 \n"
   ]
  },
  {
   "cell_type": "code",
   "execution_count": 2,
   "id": "8c8a66bc",
   "metadata": {},
   "outputs": [
    {
     "data": {
      "application/json": {
       "cell": {
        "!": "OSMagics",
        "HTML": "Other",
        "SVG": "Other",
        "bash": "Other",
        "capture": "ExecutionMagics",
        "cmd": "Other",
        "debug": "ExecutionMagics",
        "file": "Other",
        "html": "DisplayMagics",
        "javascript": "DisplayMagics",
        "js": "DisplayMagics",
        "latex": "DisplayMagics",
        "markdown": "DisplayMagics",
        "perl": "Other",
        "prun": "ExecutionMagics",
        "pypy": "Other",
        "python": "Other",
        "python2": "Other",
        "python3": "Other",
        "ruby": "Other",
        "script": "ScriptMagics",
        "sh": "Other",
        "svg": "DisplayMagics",
        "sx": "OSMagics",
        "system": "OSMagics",
        "time": "ExecutionMagics",
        "timeit": "ExecutionMagics",
        "writefile": "OSMagics"
       },
       "line": {
        "alias": "OSMagics",
        "alias_magic": "BasicMagics",
        "autoawait": "AsyncMagics",
        "autocall": "AutoMagics",
        "automagic": "AutoMagics",
        "autosave": "KernelMagics",
        "bookmark": "OSMagics",
        "cd": "OSMagics",
        "clear": "KernelMagics",
        "cls": "KernelMagics",
        "colors": "BasicMagics",
        "conda": "PackagingMagics",
        "config": "ConfigMagics",
        "connect_info": "KernelMagics",
        "copy": "Other",
        "ddir": "Other",
        "debug": "ExecutionMagics",
        "dhist": "OSMagics",
        "dirs": "OSMagics",
        "doctest_mode": "BasicMagics",
        "echo": "Other",
        "ed": "Other",
        "edit": "KernelMagics",
        "env": "OSMagics",
        "gui": "BasicMagics",
        "hist": "Other",
        "history": "HistoryMagics",
        "killbgscripts": "ScriptMagics",
        "ldir": "Other",
        "less": "KernelMagics",
        "load": "CodeMagics",
        "load_ext": "ExtensionMagics",
        "loadpy": "CodeMagics",
        "logoff": "LoggingMagics",
        "logon": "LoggingMagics",
        "logstart": "LoggingMagics",
        "logstate": "LoggingMagics",
        "logstop": "LoggingMagics",
        "ls": "Other",
        "lsmagic": "BasicMagics",
        "macro": "ExecutionMagics",
        "magic": "BasicMagics",
        "matplotlib": "PylabMagics",
        "mkdir": "Other",
        "more": "KernelMagics",
        "notebook": "BasicMagics",
        "page": "BasicMagics",
        "pastebin": "CodeMagics",
        "pdb": "ExecutionMagics",
        "pdef": "NamespaceMagics",
        "pdoc": "NamespaceMagics",
        "pfile": "NamespaceMagics",
        "pinfo": "NamespaceMagics",
        "pinfo2": "NamespaceMagics",
        "pip": "PackagingMagics",
        "popd": "OSMagics",
        "pprint": "BasicMagics",
        "precision": "BasicMagics",
        "prun": "ExecutionMagics",
        "psearch": "NamespaceMagics",
        "psource": "NamespaceMagics",
        "pushd": "OSMagics",
        "pwd": "OSMagics",
        "pycat": "OSMagics",
        "pylab": "PylabMagics",
        "qtconsole": "KernelMagics",
        "quickref": "BasicMagics",
        "recall": "HistoryMagics",
        "rehashx": "OSMagics",
        "reload_ext": "ExtensionMagics",
        "ren": "Other",
        "rep": "Other",
        "rerun": "HistoryMagics",
        "reset": "NamespaceMagics",
        "reset_selective": "NamespaceMagics",
        "rmdir": "Other",
        "run": "ExecutionMagics",
        "save": "CodeMagics",
        "sc": "OSMagics",
        "set_env": "OSMagics",
        "store": "StoreMagics",
        "sx": "OSMagics",
        "system": "OSMagics",
        "tb": "ExecutionMagics",
        "time": "ExecutionMagics",
        "timeit": "ExecutionMagics",
        "unalias": "OSMagics",
        "unload_ext": "ExtensionMagics",
        "who": "NamespaceMagics",
        "who_ls": "NamespaceMagics",
        "whos": "NamespaceMagics",
        "xdel": "NamespaceMagics",
        "xmode": "BasicMagics"
       }
      },
      "text/plain": [
       "Available line magics:\n",
       "%alias  %alias_magic  %autoawait  %autocall  %automagic  %autosave  %bookmark  %cd  %clear  %cls  %colors  %conda  %config  %connect_info  %copy  %ddir  %debug  %dhist  %dirs  %doctest_mode  %echo  %ed  %edit  %env  %gui  %hist  %history  %killbgscripts  %ldir  %less  %load  %load_ext  %loadpy  %logoff  %logon  %logstart  %logstate  %logstop  %ls  %lsmagic  %macro  %magic  %matplotlib  %mkdir  %more  %notebook  %page  %pastebin  %pdb  %pdef  %pdoc  %pfile  %pinfo  %pinfo2  %pip  %popd  %pprint  %precision  %prun  %psearch  %psource  %pushd  %pwd  %pycat  %pylab  %qtconsole  %quickref  %recall  %rehashx  %reload_ext  %ren  %rep  %rerun  %reset  %reset_selective  %rmdir  %run  %save  %sc  %set_env  %store  %sx  %system  %tb  %time  %timeit  %unalias  %unload_ext  %who  %who_ls  %whos  %xdel  %xmode\n",
       "\n",
       "Available cell magics:\n",
       "%%!  %%HTML  %%SVG  %%bash  %%capture  %%cmd  %%debug  %%file  %%html  %%javascript  %%js  %%latex  %%markdown  %%perl  %%prun  %%pypy  %%python  %%python2  %%python3  %%ruby  %%script  %%sh  %%svg  %%sx  %%system  %%time  %%timeit  %%writefile\n",
       "\n",
       "Automagic is ON, % prefix IS NOT needed for line magics."
      ]
     },
     "execution_count": 2,
     "metadata": {},
     "output_type": "execute_result"
    }
   ],
   "source": [
    "%lsmagic\n"
   ]
  },
  {
   "cell_type": "code",
   "execution_count": 3,
   "id": "37ade691",
   "metadata": {},
   "outputs": [],
   "source": [
    "%matplotlib inline\n"
   ]
  },
  {
   "cell_type": "markdown",
   "id": "5c06bc26",
   "metadata": {},
   "source": [
    "<img width=\"1200px\" src=\"https://user-images.githubusercontent.com/7065401/58504872-fa243b00-8161-11e9-85ed-4b7d8d7ce9f7.png\" />"
   ]
  },
  {
   "cell_type": "code",
   "execution_count": 4,
   "id": "77b0b50f",
   "metadata": {},
   "outputs": [],
   "source": [
    "conn = sqlite3.connect('data/sakila.db')"
   ]
  },
  {
   "cell_type": "code",
   "execution_count": 5,
   "id": "db996585",
   "metadata": {},
   "outputs": [],
   "source": [
    "df = pd.read_sql(\"\"\"\n",
    "    SELECT \n",
    "        rental.rental_id, rental.rental_date, rental.return_date,\n",
    "        customer.last_name AS customer_lastname,\n",
    "        store.store_id,\n",
    "        city.city AS rental_store_city,\n",
    "        film.title AS film_title, film.rental_duration AS  film_rental_duration,\n",
    "        film.rental_rate AS  film_rental_rate, film.replacement_cost AS film_replacement_cost,\n",
    "        film.rating as film_rating\n",
    "    FROM rental\n",
    "    INNER JOIN inventory ON inventory.inventory_id == rental.inventory_id\n",
    "    INNER JOIN film ON film.film_id == inventory.inventory_id\n",
    "    INNER JOIN store ON store.store_id == inventory.store_id\n",
    "    INNER JOIN customer ON customer.customer_id == rental.customer_id\n",
    "    INNER JOIN address ON address.address_id == customer.address_id\n",
    "    INNER JOIN city ON city.city_id == address.city_id\n",
    "    ;\n",
    "\"\"\", conn,index_col='rental_id', parse_dates=['rental_date','return_date'])"
   ]
  },
  {
   "cell_type": "code",
   "execution_count": 6,
   "id": "ad57e975",
   "metadata": {},
   "outputs": [
    {
     "data": {
      "text/html": [
       "<div>\n",
       "<style scoped>\n",
       "    .dataframe tbody tr th:only-of-type {\n",
       "        vertical-align: middle;\n",
       "    }\n",
       "\n",
       "    .dataframe tbody tr th {\n",
       "        vertical-align: top;\n",
       "    }\n",
       "\n",
       "    .dataframe thead th {\n",
       "        text-align: right;\n",
       "    }\n",
       "</style>\n",
       "<table border=\"1\" class=\"dataframe\">\n",
       "  <thead>\n",
       "    <tr style=\"text-align: right;\">\n",
       "      <th></th>\n",
       "      <th>rental_date</th>\n",
       "      <th>return_date</th>\n",
       "      <th>customer_lastname</th>\n",
       "      <th>store_id</th>\n",
       "      <th>rental_store_city</th>\n",
       "      <th>film_title</th>\n",
       "      <th>film_rental_duration</th>\n",
       "      <th>film_rental_rate</th>\n",
       "      <th>film_replacement_cost</th>\n",
       "      <th>film_rating</th>\n",
       "    </tr>\n",
       "    <tr>\n",
       "      <th>rental_id</th>\n",
       "      <th></th>\n",
       "      <th></th>\n",
       "      <th></th>\n",
       "      <th></th>\n",
       "      <th></th>\n",
       "      <th></th>\n",
       "      <th></th>\n",
       "      <th></th>\n",
       "      <th></th>\n",
       "      <th></th>\n",
       "    </tr>\n",
       "  </thead>\n",
       "  <tbody>\n",
       "    <tr>\n",
       "      <th>1</th>\n",
       "      <td>2005-05-24 22:53:30</td>\n",
       "      <td>2005-05-26 22:04:30</td>\n",
       "      <td>HUNTER</td>\n",
       "      <td>1</td>\n",
       "      <td>guas Lindas de Gois</td>\n",
       "      <td>GOLDMINE TYCOON</td>\n",
       "      <td>6</td>\n",
       "      <td>0.99</td>\n",
       "      <td>20.99</td>\n",
       "      <td>R</td>\n",
       "    </tr>\n",
       "    <tr>\n",
       "      <th>16</th>\n",
       "      <td>2005-05-25 00:43:11</td>\n",
       "      <td>2005-05-26 04:42:11</td>\n",
       "      <td>CURLEY</td>\n",
       "      <td>1</td>\n",
       "      <td>Miraj</td>\n",
       "      <td>GUNFIGHTER MUSSOLINI</td>\n",
       "      <td>3</td>\n",
       "      <td>2.99</td>\n",
       "      <td>9.99</td>\n",
       "      <td>PG-13</td>\n",
       "    </tr>\n",
       "    <tr>\n",
       "      <th>17</th>\n",
       "      <td>2005-05-25 01:06:36</td>\n",
       "      <td>2005-05-27 00:43:36</td>\n",
       "      <td>OGLESBY</td>\n",
       "      <td>2</td>\n",
       "      <td>Cuernavaca</td>\n",
       "      <td>SPIRIT FLINTSTONES</td>\n",
       "      <td>7</td>\n",
       "      <td>0.99</td>\n",
       "      <td>23.99</td>\n",
       "      <td>R</td>\n",
       "    </tr>\n",
       "    <tr>\n",
       "      <th>21</th>\n",
       "      <td>2005-05-25 01:59:46</td>\n",
       "      <td>2005-05-26 01:01:46</td>\n",
       "      <td>MORRELL</td>\n",
       "      <td>1</td>\n",
       "      <td>Cavite</td>\n",
       "      <td>CHITTY LOCK</td>\n",
       "      <td>6</td>\n",
       "      <td>2.99</td>\n",
       "      <td>24.99</td>\n",
       "      <td>G</td>\n",
       "    </tr>\n",
       "    <tr>\n",
       "      <th>22</th>\n",
       "      <td>2005-05-25 02:19:23</td>\n",
       "      <td>2005-05-26 04:52:23</td>\n",
       "      <td>FORTIER</td>\n",
       "      <td>1</td>\n",
       "      <td>Chapra</td>\n",
       "      <td>RESURRECTION SILVERADO</td>\n",
       "      <td>6</td>\n",
       "      <td>0.99</td>\n",
       "      <td>12.99</td>\n",
       "      <td>PG</td>\n",
       "    </tr>\n",
       "  </tbody>\n",
       "</table>\n",
       "</div>"
      ],
      "text/plain": [
       "                  rental_date         return_date customer_lastname  store_id  \\\n",
       "rental_id                                                                       \n",
       "1         2005-05-24 22:53:30 2005-05-26 22:04:30            HUNTER         1   \n",
       "16        2005-05-25 00:43:11 2005-05-26 04:42:11            CURLEY         1   \n",
       "17        2005-05-25 01:06:36 2005-05-27 00:43:36           OGLESBY         2   \n",
       "21        2005-05-25 01:59:46 2005-05-26 01:01:46           MORRELL         1   \n",
       "22        2005-05-25 02:19:23 2005-05-26 04:52:23           FORTIER         1   \n",
       "\n",
       "             rental_store_city              film_title  film_rental_duration  \\\n",
       "rental_id                                                                      \n",
       "1          guas Lindas de Gois         GOLDMINE TYCOON                     6   \n",
       "16                       Miraj    GUNFIGHTER MUSSOLINI                     3   \n",
       "17                  Cuernavaca      SPIRIT FLINTSTONES                     7   \n",
       "21                      Cavite             CHITTY LOCK                     6   \n",
       "22                      Chapra  RESURRECTION SILVERADO                     6   \n",
       "\n",
       "           film_rental_rate  film_replacement_cost film_rating  \n",
       "rental_id                                                       \n",
       "1                      0.99                  20.99           R  \n",
       "16                     2.99                   9.99       PG-13  \n",
       "17                     0.99                  23.99           R  \n",
       "21                     2.99                  24.99           G  \n",
       "22                     0.99                  12.99          PG  "
      ]
     },
     "execution_count": 6,
     "metadata": {},
     "output_type": "execute_result"
    }
   ],
   "source": [
    "df.head()"
   ]
  },
  {
   "cell_type": "code",
   "execution_count": 7,
   "id": "bb05b4ff",
   "metadata": {},
   "outputs": [
    {
     "name": "stdout",
     "output_type": "stream",
     "text": [
      "<class 'pandas.core.frame.DataFrame'>\n",
      "Int64Index: 3475 entries, 1 to 16045\n",
      "Data columns (total 10 columns):\n",
      " #   Column                 Non-Null Count  Dtype         \n",
      "---  ------                 --------------  -----         \n",
      " 0   rental_date            3475 non-null   datetime64[ns]\n",
      " 1   return_date            3430 non-null   datetime64[ns]\n",
      " 2   customer_lastname      3475 non-null   object        \n",
      " 3   store_id               3475 non-null   int64         \n",
      " 4   rental_store_city      3475 non-null   object        \n",
      " 5   film_title             3475 non-null   object        \n",
      " 6   film_rental_duration   3475 non-null   int64         \n",
      " 7   film_rental_rate       3475 non-null   float64       \n",
      " 8   film_replacement_cost  3475 non-null   float64       \n",
      " 9   film_rating            3475 non-null   object        \n",
      "dtypes: datetime64[ns](2), float64(2), int64(2), object(4)\n",
      "memory usage: 298.6+ KB\n"
     ]
    }
   ],
   "source": [
    "df.info()"
   ]
  },
  {
   "cell_type": "code",
   "execution_count": 8,
   "id": "b4d1c5e7",
   "metadata": {},
   "outputs": [
    {
     "data": {
      "text/plain": [
       "(3475, 10)"
      ]
     },
     "execution_count": 8,
     "metadata": {},
     "output_type": "execute_result"
    }
   ],
   "source": [
    "df.shape\n"
   ]
  },
  {
   "cell_type": "code",
   "execution_count": 9,
   "id": "8fd9cb29",
   "metadata": {},
   "outputs": [
    {
     "data": {
      "text/html": [
       "<div>\n",
       "<style scoped>\n",
       "    .dataframe tbody tr th:only-of-type {\n",
       "        vertical-align: middle;\n",
       "    }\n",
       "\n",
       "    .dataframe tbody tr th {\n",
       "        vertical-align: top;\n",
       "    }\n",
       "\n",
       "    .dataframe thead th {\n",
       "        text-align: right;\n",
       "    }\n",
       "</style>\n",
       "<table border=\"1\" class=\"dataframe\">\n",
       "  <thead>\n",
       "    <tr style=\"text-align: right;\">\n",
       "      <th></th>\n",
       "      <th>store_id</th>\n",
       "      <th>film_rental_duration</th>\n",
       "      <th>film_rental_rate</th>\n",
       "      <th>film_replacement_cost</th>\n",
       "    </tr>\n",
       "  </thead>\n",
       "  <tbody>\n",
       "    <tr>\n",
       "      <th>count</th>\n",
       "      <td>3475.000000</td>\n",
       "      <td>3475.000000</td>\n",
       "      <td>3475.000000</td>\n",
       "      <td>3475.000000</td>\n",
       "    </tr>\n",
       "    <tr>\n",
       "      <th>mean</th>\n",
       "      <td>1.501583</td>\n",
       "      <td>4.997122</td>\n",
       "      <td>2.953165</td>\n",
       "      <td>19.991151</td>\n",
       "    </tr>\n",
       "    <tr>\n",
       "      <th>std</th>\n",
       "      <td>0.500069</td>\n",
       "      <td>1.417464</td>\n",
       "      <td>1.655688</td>\n",
       "      <td>6.023032</td>\n",
       "    </tr>\n",
       "    <tr>\n",
       "      <th>min</th>\n",
       "      <td>1.000000</td>\n",
       "      <td>3.000000</td>\n",
       "      <td>0.990000</td>\n",
       "      <td>9.990000</td>\n",
       "    </tr>\n",
       "    <tr>\n",
       "      <th>25%</th>\n",
       "      <td>1.000000</td>\n",
       "      <td>4.000000</td>\n",
       "      <td>0.990000</td>\n",
       "      <td>14.990000</td>\n",
       "    </tr>\n",
       "    <tr>\n",
       "      <th>50%</th>\n",
       "      <td>2.000000</td>\n",
       "      <td>5.000000</td>\n",
       "      <td>2.990000</td>\n",
       "      <td>19.990000</td>\n",
       "    </tr>\n",
       "    <tr>\n",
       "      <th>75%</th>\n",
       "      <td>2.000000</td>\n",
       "      <td>6.000000</td>\n",
       "      <td>4.990000</td>\n",
       "      <td>24.990000</td>\n",
       "    </tr>\n",
       "    <tr>\n",
       "      <th>max</th>\n",
       "      <td>2.000000</td>\n",
       "      <td>7.000000</td>\n",
       "      <td>4.990000</td>\n",
       "      <td>29.990000</td>\n",
       "    </tr>\n",
       "  </tbody>\n",
       "</table>\n",
       "</div>"
      ],
      "text/plain": [
       "          store_id  film_rental_duration  film_rental_rate  \\\n",
       "count  3475.000000           3475.000000       3475.000000   \n",
       "mean      1.501583              4.997122          2.953165   \n",
       "std       0.500069              1.417464          1.655688   \n",
       "min       1.000000              3.000000          0.990000   \n",
       "25%       1.000000              4.000000          0.990000   \n",
       "50%       2.000000              5.000000          2.990000   \n",
       "75%       2.000000              6.000000          4.990000   \n",
       "max       2.000000              7.000000          4.990000   \n",
       "\n",
       "       film_replacement_cost  \n",
       "count            3475.000000  \n",
       "mean               19.991151  \n",
       "std                 6.023032  \n",
       "min                 9.990000  \n",
       "25%                14.990000  \n",
       "50%                19.990000  \n",
       "75%                24.990000  \n",
       "max                29.990000  "
      ]
     },
     "execution_count": 9,
     "metadata": {},
     "output_type": "execute_result"
    }
   ],
   "source": [
    "df.describe()"
   ]
  },
  {
   "cell_type": "code",
   "execution_count": 10,
   "id": "60954a9d",
   "metadata": {},
   "outputs": [
    {
     "data": {
      "text/plain": [
       "rental_id\n",
       "1     0.99\n",
       "16    2.99\n",
       "17    0.99\n",
       "21    2.99\n",
       "22    0.99\n",
       "Name: film_rental_rate, dtype: float64"
      ]
     },
     "execution_count": 10,
     "metadata": {},
     "output_type": "execute_result"
    }
   ],
   "source": [
    "df['film_rental_rate'].head()"
   ]
  },
  {
   "cell_type": "code",
   "execution_count": 11,
   "id": "ab890c32",
   "metadata": {},
   "outputs": [
    {
     "data": {
      "text/plain": [
       "count    3475.000000\n",
       "mean        2.953165\n",
       "std         1.655688\n",
       "min         0.990000\n",
       "25%         0.990000\n",
       "50%         2.990000\n",
       "75%         4.990000\n",
       "max         4.990000\n",
       "Name: film_rental_rate, dtype: float64"
      ]
     },
     "execution_count": 11,
     "metadata": {},
     "output_type": "execute_result"
    }
   ],
   "source": [
    "df['film_rental_rate'].describe()"
   ]
  },
  {
   "cell_type": "code",
   "execution_count": 12,
   "id": "adf81b5f",
   "metadata": {},
   "outputs": [
    {
     "data": {
      "text/plain": [
       "<AxesSubplot:>"
      ]
     },
     "execution_count": 12,
     "metadata": {},
     "output_type": "execute_result"
    },
    {
     "data": {
      "image/png": "[encoded data removed]",
      "text/plain": [
       "<Figure size 1008x432 with 1 Axes>"
      ]
     },
     "metadata": {
      "needs_background": "light"
     },
     "output_type": "display_data"
    }
   ],
   "source": [
    "df['film_rental_rate'].plot(kind='box', vert=False, figsize=(14,6))"
   ]
  },
  {
   "cell_type": "code",
   "execution_count": 13,
   "id": "b409a0ea",
   "metadata": {},
   "outputs": [
    {
     "data": {
      "text/plain": [
       "<AxesSubplot:ylabel='Density'>"
      ]
     },
     "execution_count": 13,
     "metadata": {},
     "output_type": "execute_result"
    },
    {
     "data": {
      "image/png": "[encoded data removed]",
      "text/plain": [
       "<Figure size 1008x504 with 1 Axes>"
      ]
     },
     "metadata": {
      "needs_background": "light"
     },
     "output_type": "display_data"
    }
   ],
   "source": [
    "df['film_rental_rate'].plot(kind='density', figsize=(14,7))"
   ]
  },
  {
   "cell_type": "code",
   "execution_count": 14,
   "id": "d931c90c",
   "metadata": {},
   "outputs": [
    {
     "data": {
      "text/plain": [
       "0.99    1223\n",
       "4.99    1159\n",
       "2.99    1093\n",
       "Name: film_rental_rate, dtype: int64"
      ]
     },
     "execution_count": 14,
     "metadata": {},
     "output_type": "execute_result"
    }
   ],
   "source": [
    "df['film_rental_rate'].value_counts()"
   ]
  },
  {
   "cell_type": "code",
   "execution_count": 15,
   "id": "1a955700",
   "metadata": {},
   "outputs": [
    {
     "data": {
      "text/plain": [
       "<AxesSubplot:>"
      ]
     },
     "execution_count": 15,
     "metadata": {},
     "output_type": "execute_result"
    },
    {
     "data": {
      "image/png": "[encoded data removed]",
      "text/plain": [
       "<Figure size 1008x360 with 1 Axes>"
      ]
     },
     "metadata": {
      "needs_background": "light"
     },
     "output_type": "display_data"
    }
   ],
   "source": [
    "df['film_rental_rate'].value_counts().plot(kind='bar', figsize=(14,5))"
   ]
  },
  {
   "cell_type": "code",
   "execution_count": 16,
   "id": "e31904f1",
   "metadata": {},
   "outputs": [
    {
     "data": {
      "text/plain": [
       "Text(0, 0.5, 'Number of Rental')"
      ]
     },
     "execution_count": 16,
     "metadata": {},
     "output_type": "execute_result"
    },
    {
     "data": {
      "image/png": "[encoded data removed]",
      "text/plain": [
       "<Figure size 1008x360 with 1 Axes>"
      ]
     },
     "metadata": {
      "needs_background": "light"
     },
     "output_type": "display_data"
    }
   ],
   "source": [
    "ax = df['film_rental_rate'].value_counts().plot(kind='hist', bins=30, figsize=(14,5))\n",
    "ax.set_ylabel('Number of Rental')"
   ]
  },
  {
   "cell_type": "markdown",
   "id": "2855539c",
   "metadata": {},
   "source": [
    "$$ rental\\_gain\\_return = \\frac{film\\_rental\\_rate}{film\\_replacement\\_cost} * 100 $$"
   ]
  },
  {
   "cell_type": "code",
   "execution_count": 17,
   "id": "67400299",
   "metadata": {},
   "outputs": [],
   "source": [
    "df['rental_gain_return'] = df['film_rental_rate']/df['film_replacement_cost'] * 100"
   ]
  },
  {
   "cell_type": "code",
   "execution_count": 18,
   "id": "9d2fb73b",
   "metadata": {},
   "outputs": [
    {
     "name": "stdout",
     "output_type": "stream",
     "text": [
      "<class 'pandas.core.frame.DataFrame'>\n",
      "Int64Index: 3475 entries, 1 to 16045\n",
      "Data columns (total 11 columns):\n",
      " #   Column                 Non-Null Count  Dtype         \n",
      "---  ------                 --------------  -----         \n",
      " 0   rental_date            3475 non-null   datetime64[ns]\n",
      " 1   return_date            3430 non-null   datetime64[ns]\n",
      " 2   customer_lastname      3475 non-null   object        \n",
      " 3   store_id               3475 non-null   int64         \n",
      " 4   rental_store_city      3475 non-null   object        \n",
      " 5   film_title             3475 non-null   object        \n",
      " 6   film_rental_duration   3475 non-null   int64         \n",
      " 7   film_rental_rate       3475 non-null   float64       \n",
      " 8   film_replacement_cost  3475 non-null   float64       \n",
      " 9   film_rating            3475 non-null   object        \n",
      " 10  rental_gain_return     3475 non-null   float64       \n",
      "dtypes: datetime64[ns](2), float64(3), int64(2), object(4)\n",
      "memory usage: 325.8+ KB\n"
     ]
    }
   ],
   "source": [
    "df.info()"
   ]
  },
  {
   "cell_type": "code",
   "execution_count": 19,
   "id": "683cc5b1",
   "metadata": {},
   "outputs": [
    {
     "data": {
      "text/plain": [
       "4.997122302158274"
      ]
     },
     "execution_count": 19,
     "metadata": {},
     "output_type": "execute_result"
    }
   ],
   "source": [
    "df['film_rental_duration'].mean()"
   ]
  },
  {
   "cell_type": "code",
   "execution_count": 20,
   "id": "9bcbf61a",
   "metadata": {},
   "outputs": [
    {
     "data": {
      "text/plain": [
       "<AxesSubplot:>"
      ]
     },
     "execution_count": 20,
     "metadata": {},
     "output_type": "execute_result"
    },
    {
     "data": {
      "image/png": "[encoded data removed]",
      "text/plain": [
       "<Figure size 1008x432 with 1 Axes>"
      ]
     },
     "metadata": {
      "needs_background": "light"
     },
     "output_type": "display_data"
    }
   ],
   "source": [
    "df['film_rental_duration'].value_counts().plot(kind='bar', figsize=(14,6))"
   ]
  },
  {
   "cell_type": "code",
   "execution_count": 21,
   "id": "ecebb861",
   "metadata": {},
   "outputs": [
    {
     "name": "stdout",
     "output_type": "stream",
     "text": [
      "<class 'pandas.core.frame.DataFrame'>\n",
      "Int64Index: 3475 entries, 1 to 16045\n",
      "Data columns (total 11 columns):\n",
      " #   Column                 Non-Null Count  Dtype         \n",
      "---  ------                 --------------  -----         \n",
      " 0   rental_date            3475 non-null   datetime64[ns]\n",
      " 1   return_date            3430 non-null   datetime64[ns]\n",
      " 2   customer_lastname      3475 non-null   object        \n",
      " 3   store_id               3475 non-null   int64         \n",
      " 4   rental_store_city      3475 non-null   object        \n",
      " 5   film_title             3475 non-null   object        \n",
      " 6   film_rental_duration   3475 non-null   int64         \n",
      " 7   film_rental_rate       3475 non-null   float64       \n",
      " 8   film_replacement_cost  3475 non-null   float64       \n",
      " 9   film_rating            3475 non-null   object        \n",
      " 10  rental_gain_return     3475 non-null   float64       \n",
      "dtypes: datetime64[ns](2), float64(3), int64(2), object(4)\n",
      "memory usage: 325.8+ KB\n"
     ]
    }
   ],
   "source": [
    "df.info()"
   ]
  },
  {
   "cell_type": "code",
   "execution_count": 22,
   "id": "abb9c344",
   "metadata": {},
   "outputs": [
    {
     "data": {
      "text/plain": [
       "0.99    1223\n",
       "4.99    1159\n",
       "2.99    1093\n",
       "Name: film_rental_rate, dtype: int64"
      ]
     },
     "execution_count": 22,
     "metadata": {},
     "output_type": "execute_result"
    }
   ],
   "source": [
    "df['film_rental_rate'].value_counts()"
   ]
  },
  {
   "cell_type": "code",
   "execution_count": 23,
   "id": "98a73772",
   "metadata": {},
   "outputs": [
    {
     "data": {
      "text/plain": [
       "Text(0, 0.5, 'Film Rental Rate')"
      ]
     },
     "execution_count": 23,
     "metadata": {},
     "output_type": "execute_result"
    },
    {
     "data": {
      "image/png": "[encoded data removed]",
      "text/plain": [
       "<Figure size 1008x432 with 1 Axes>"
      ]
     },
     "metadata": {},
     "output_type": "display_data"
    }
   ],
   "source": [
    "graph = df['film_rental_rate'].value_counts().plot(kind='pie', figsize=(14,6))\n",
    "graph.set_ylabel('Film Rental Rate')"
   ]
  },
  {
   "cell_type": "code",
   "execution_count": 24,
   "id": "04737bf0",
   "metadata": {},
   "outputs": [
    {
     "data": {
      "image/png": "[encoded data removed]",
      "text/plain": [
       "<Figure size 1008x432 with 1 Axes>"
      ]
     },
     "metadata": {
      "needs_background": "light"
     },
     "output_type": "display_data"
    }
   ],
   "source": [
    "graph = df['film_rental_rate'].value_counts().plot(kind='bar', figsize=(14,6))"
   ]
  },
  {
   "cell_type": "code",
   "execution_count": 25,
   "id": "4e98393e",
   "metadata": {},
   "outputs": [
    {
     "data": {
      "text/plain": [
       "Text(0.5, 0, 'Replacement_cost')"
      ]
     },
     "execution_count": 25,
     "metadata": {},
     "output_type": "execute_result"
    },
    {
     "data": {
      "image/png": "[encoded data removed]",
      "text/plain": [
       "<Figure size 1008x432 with 1 Axes>"
      ]
     },
     "metadata": {
      "needs_background": "light"
     },
     "output_type": "display_data"
    }
   ],
   "source": [
    "fun = df['film_replacement_cost'].plot(kind='box', vert=False, figsize=(14,6))\n",
    "fun.set_xlabel('Replacement_cost')"
   ]
  },
  {
   "cell_type": "code",
   "execution_count": 26,
   "id": "d00fdf18",
   "metadata": {},
   "outputs": [
    {
     "data": {
      "text/plain": [
       "<matplotlib.lines.Line2D at 0x1c3fbff7250>"
      ]
     },
     "execution_count": 26,
     "metadata": {},
     "output_type": "execute_result"
    },
    {
     "data": {
      "image/png": "[encoded data removed]",
      "text/plain": [
       "<Figure size 1008x432 with 1 Axes>"
      ]
     },
     "metadata": {
      "needs_background": "light"
     },
     "output_type": "display_data"
    }
   ],
   "source": [
    "fun = df['film_replacement_cost'].plot(kind='density', figsize=(14,6))\n",
    "fun.axvline(df['film_replacement_cost'].mean(), color='red')\n",
    "fun.axvline(df['film_replacement_cost'].median(), color='green')\n"
   ]
  },
  {
   "cell_type": "code",
   "execution_count": 27,
   "id": "dd843ee7",
   "metadata": {},
   "outputs": [
    {
     "data": {
      "text/plain": [
       "PG-13    780\n",
       "NC-17    714\n",
       "PG       684\n",
       "R        675\n",
       "G        622\n",
       "Name: film_rating, dtype: int64"
      ]
     },
     "execution_count": 27,
     "metadata": {},
     "output_type": "execute_result"
    }
   ],
   "source": [
    "df['film_rating'].value_counts()"
   ]
  },
  {
   "cell_type": "code",
   "execution_count": 28,
   "id": "fed46932",
   "metadata": {},
   "outputs": [
    {
     "data": {
      "text/plain": [
       "<AxesSubplot:>"
      ]
     },
     "execution_count": 28,
     "metadata": {},
     "output_type": "execute_result"
    },
    {
     "data": {
      "image/png": "[encoded data removed]",
      "text/plain": [
       "<Figure size 1008x432 with 1 Axes>"
      ]
     },
     "metadata": {
      "needs_background": "light"
     },
     "output_type": "display_data"
    }
   ],
   "source": [
    "df['film_rating'].value_counts().plot(kind='bar', figsize=(14,6))"
   ]
  },
  {
   "cell_type": "code",
   "execution_count": 29,
   "id": "610e6395",
   "metadata": {},
   "outputs": [
    {
     "name": "stdout",
     "output_type": "stream",
     "text": [
      "<class 'pandas.core.frame.DataFrame'>\n",
      "Int64Index: 3475 entries, 1 to 16045\n",
      "Data columns (total 11 columns):\n",
      " #   Column                 Non-Null Count  Dtype         \n",
      "---  ------                 --------------  -----         \n",
      " 0   rental_date            3475 non-null   datetime64[ns]\n",
      " 1   return_date            3430 non-null   datetime64[ns]\n",
      " 2   customer_lastname      3475 non-null   object        \n",
      " 3   store_id               3475 non-null   int64         \n",
      " 4   rental_store_city      3475 non-null   object        \n",
      " 5   film_title             3475 non-null   object        \n",
      " 6   film_rental_duration   3475 non-null   int64         \n",
      " 7   film_rental_rate       3475 non-null   float64       \n",
      " 8   film_replacement_cost  3475 non-null   float64       \n",
      " 9   film_rating            3475 non-null   object        \n",
      " 10  rental_gain_return     3475 non-null   float64       \n",
      "dtypes: datetime64[ns](2), float64(3), int64(2), object(4)\n",
      "memory usage: 325.8+ KB\n"
     ]
    }
   ],
   "source": [
    "df.info()"
   ]
  },
  {
   "cell_type": "code",
   "execution_count": 30,
   "id": "832b19a3",
   "metadata": {},
   "outputs": [
    {
     "data": {
      "text/plain": [
       "<AxesSubplot:title={'center':'film_replacement_cost'}, xlabel='[film_rating]'>"
      ]
     },
     "execution_count": 30,
     "metadata": {},
     "output_type": "execute_result"
    },
    {
     "data": {
      "image/png": "[encoded data removed]",
      "text/plain": [
       "<Figure size 1008x432 with 1 Axes>"
      ]
     },
     "metadata": {
      "needs_background": "light"
     },
     "output_type": "display_data"
    }
   ],
   "source": [
    "df[['film_replacement_cost', 'film_rating']].boxplot(by='film_rating', figsize=(14,6))"
   ]
  },
  {
   "cell_type": "code",
   "execution_count": 31,
   "id": "138557d9",
   "metadata": {},
   "outputs": [],
   "source": [
    "df['rental_days'] = df[['rental_date', 'return_date']].apply(lambda x: (x[1] - x[0]).days, axis=1)"
   ]
  },
  {
   "cell_type": "code",
   "execution_count": 32,
   "id": "612b910c",
   "metadata": {},
   "outputs": [
    {
     "data": {
      "text/plain": [
       "8.0    417\n",
       "6.0    392\n",
       "5.0    392\n",
       "4.0    388\n",
       "1.0    383\n",
       "7.0    375\n",
       "3.0    367\n",
       "2.0    352\n",
       "9.0    193\n",
       "0.0    171\n",
       "Name: rental_days, dtype: int64"
      ]
     },
     "execution_count": 32,
     "metadata": {},
     "output_type": "execute_result"
    }
   ],
   "source": [
    "df['rental_days'].value_counts()"
   ]
  },
  {
   "cell_type": "code",
   "execution_count": 33,
   "id": "e51a5e10",
   "metadata": {},
   "outputs": [
    {
     "data": {
      "text/plain": [
       "<matplotlib.lines.Line2D at 0x1c3fc2ae580>"
      ]
     },
     "execution_count": 33,
     "metadata": {},
     "output_type": "execute_result"
    },
    {
     "data": {
      "image/png": "[encoded data removed]",
      "text/plain": [
       "<Figure size 1008x432 with 1 Axes>"
      ]
     },
     "metadata": {
      "needs_background": "light"
     },
     "output_type": "display_data"
    }
   ],
   "source": [
    "fun = df['rental_days'].plot(kind='density', figsize=(14,6))\n",
    "fun.axvline(df['rental_days'].mean(), color='red')"
   ]
  },
  {
   "cell_type": "code",
   "execution_count": 34,
   "id": "96d3d47e",
   "metadata": {},
   "outputs": [],
   "source": [
    "df['film_daily_rental_rate'] = df[['film_rental_rate', 'film_rental_duration']].apply(lambda x: (x[0]/x[1]), axis=1)"
   ]
  },
  {
   "cell_type": "code",
   "execution_count": 35,
   "id": "da40c6f8",
   "metadata": {},
   "outputs": [
    {
     "name": "stdout",
     "output_type": "stream",
     "text": [
      "<class 'pandas.core.frame.DataFrame'>\n",
      "Int64Index: 3475 entries, 1 to 16045\n",
      "Data columns (total 13 columns):\n",
      " #   Column                  Non-Null Count  Dtype         \n",
      "---  ------                  --------------  -----         \n",
      " 0   rental_date             3475 non-null   datetime64[ns]\n",
      " 1   return_date             3430 non-null   datetime64[ns]\n",
      " 2   customer_lastname       3475 non-null   object        \n",
      " 3   store_id                3475 non-null   int64         \n",
      " 4   rental_store_city       3475 non-null   object        \n",
      " 5   film_title              3475 non-null   object        \n",
      " 6   film_rental_duration    3475 non-null   int64         \n",
      " 7   film_rental_rate        3475 non-null   float64       \n",
      " 8   film_replacement_cost   3475 non-null   float64       \n",
      " 9   film_rating             3475 non-null   object        \n",
      " 10  rental_gain_return      3475 non-null   float64       \n",
      " 11  rental_days             3430 non-null   float64       \n",
      " 12  film_daily_rental_rate  3475 non-null   float64       \n",
      "dtypes: datetime64[ns](2), float64(5), int64(2), object(4)\n",
      "memory usage: 380.1+ KB\n"
     ]
    }
   ],
   "source": [
    "df.info()"
   ]
  },
  {
   "cell_type": "code",
   "execution_count": 36,
   "id": "856eede6",
   "metadata": {},
   "outputs": [
    {
     "data": {
      "text/html": [
       "<div>\n",
       "<style scoped>\n",
       "    .dataframe tbody tr th:only-of-type {\n",
       "        vertical-align: middle;\n",
       "    }\n",
       "\n",
       "    .dataframe tbody tr th {\n",
       "        vertical-align: top;\n",
       "    }\n",
       "\n",
       "    .dataframe thead th {\n",
       "        text-align: right;\n",
       "    }\n",
       "</style>\n",
       "<table border=\"1\" class=\"dataframe\">\n",
       "  <thead>\n",
       "    <tr style=\"text-align: right;\">\n",
       "      <th></th>\n",
       "      <th>rental_date</th>\n",
       "      <th>return_date</th>\n",
       "      <th>customer_lastname</th>\n",
       "      <th>store_id</th>\n",
       "      <th>rental_store_city</th>\n",
       "      <th>film_title</th>\n",
       "      <th>film_rental_duration</th>\n",
       "      <th>film_rental_rate</th>\n",
       "      <th>film_replacement_cost</th>\n",
       "      <th>film_rating</th>\n",
       "      <th>rental_gain_return</th>\n",
       "      <th>rental_days</th>\n",
       "      <th>film_daily_rental_rate</th>\n",
       "    </tr>\n",
       "    <tr>\n",
       "      <th>rental_id</th>\n",
       "      <th></th>\n",
       "      <th></th>\n",
       "      <th></th>\n",
       "      <th></th>\n",
       "      <th></th>\n",
       "      <th></th>\n",
       "      <th></th>\n",
       "      <th></th>\n",
       "      <th></th>\n",
       "      <th></th>\n",
       "      <th></th>\n",
       "      <th></th>\n",
       "      <th></th>\n",
       "    </tr>\n",
       "  </thead>\n",
       "  <tbody>\n",
       "    <tr>\n",
       "      <th>1</th>\n",
       "      <td>2005-05-24 22:53:30</td>\n",
       "      <td>2005-05-26 22:04:30</td>\n",
       "      <td>HUNTER</td>\n",
       "      <td>1</td>\n",
       "      <td>guas Lindas de Gois</td>\n",
       "      <td>GOLDMINE TYCOON</td>\n",
       "      <td>6</td>\n",
       "      <td>0.99</td>\n",
       "      <td>20.99</td>\n",
       "      <td>R</td>\n",
       "      <td>4.716532</td>\n",
       "      <td>1.0</td>\n",
       "      <td>0.165000</td>\n",
       "    </tr>\n",
       "    <tr>\n",
       "      <th>16</th>\n",
       "      <td>2005-05-25 00:43:11</td>\n",
       "      <td>2005-05-26 04:42:11</td>\n",
       "      <td>CURLEY</td>\n",
       "      <td>1</td>\n",
       "      <td>Miraj</td>\n",
       "      <td>GUNFIGHTER MUSSOLINI</td>\n",
       "      <td>3</td>\n",
       "      <td>2.99</td>\n",
       "      <td>9.99</td>\n",
       "      <td>PG-13</td>\n",
       "      <td>29.929930</td>\n",
       "      <td>1.0</td>\n",
       "      <td>0.996667</td>\n",
       "    </tr>\n",
       "    <tr>\n",
       "      <th>17</th>\n",
       "      <td>2005-05-25 01:06:36</td>\n",
       "      <td>2005-05-27 00:43:36</td>\n",
       "      <td>OGLESBY</td>\n",
       "      <td>2</td>\n",
       "      <td>Cuernavaca</td>\n",
       "      <td>SPIRIT FLINTSTONES</td>\n",
       "      <td>7</td>\n",
       "      <td>0.99</td>\n",
       "      <td>23.99</td>\n",
       "      <td>R</td>\n",
       "      <td>4.126719</td>\n",
       "      <td>1.0</td>\n",
       "      <td>0.141429</td>\n",
       "    </tr>\n",
       "    <tr>\n",
       "      <th>21</th>\n",
       "      <td>2005-05-25 01:59:46</td>\n",
       "      <td>2005-05-26 01:01:46</td>\n",
       "      <td>MORRELL</td>\n",
       "      <td>1</td>\n",
       "      <td>Cavite</td>\n",
       "      <td>CHITTY LOCK</td>\n",
       "      <td>6</td>\n",
       "      <td>2.99</td>\n",
       "      <td>24.99</td>\n",
       "      <td>G</td>\n",
       "      <td>11.964786</td>\n",
       "      <td>0.0</td>\n",
       "      <td>0.498333</td>\n",
       "    </tr>\n",
       "    <tr>\n",
       "      <th>22</th>\n",
       "      <td>2005-05-25 02:19:23</td>\n",
       "      <td>2005-05-26 04:52:23</td>\n",
       "      <td>FORTIER</td>\n",
       "      <td>1</td>\n",
       "      <td>Chapra</td>\n",
       "      <td>RESURRECTION SILVERADO</td>\n",
       "      <td>6</td>\n",
       "      <td>0.99</td>\n",
       "      <td>12.99</td>\n",
       "      <td>PG</td>\n",
       "      <td>7.621247</td>\n",
       "      <td>1.0</td>\n",
       "      <td>0.165000</td>\n",
       "    </tr>\n",
       "  </tbody>\n",
       "</table>\n",
       "</div>"
      ],
      "text/plain": [
       "                  rental_date         return_date customer_lastname  store_id  \\\n",
       "rental_id                                                                       \n",
       "1         2005-05-24 22:53:30 2005-05-26 22:04:30            HUNTER         1   \n",
       "16        2005-05-25 00:43:11 2005-05-26 04:42:11            CURLEY         1   \n",
       "17        2005-05-25 01:06:36 2005-05-27 00:43:36           OGLESBY         2   \n",
       "21        2005-05-25 01:59:46 2005-05-26 01:01:46           MORRELL         1   \n",
       "22        2005-05-25 02:19:23 2005-05-26 04:52:23           FORTIER         1   \n",
       "\n",
       "             rental_store_city              film_title  film_rental_duration  \\\n",
       "rental_id                                                                      \n",
       "1          guas Lindas de Gois         GOLDMINE TYCOON                     6   \n",
       "16                       Miraj    GUNFIGHTER MUSSOLINI                     3   \n",
       "17                  Cuernavaca      SPIRIT FLINTSTONES                     7   \n",
       "21                      Cavite             CHITTY LOCK                     6   \n",
       "22                      Chapra  RESURRECTION SILVERADO                     6   \n",
       "\n",
       "           film_rental_rate  film_replacement_cost film_rating  \\\n",
       "rental_id                                                        \n",
       "1                      0.99                  20.99           R   \n",
       "16                     2.99                   9.99       PG-13   \n",
       "17                     0.99                  23.99           R   \n",
       "21                     2.99                  24.99           G   \n",
       "22                     0.99                  12.99          PG   \n",
       "\n",
       "           rental_gain_return  rental_days  film_daily_rental_rate  \n",
       "rental_id                                                           \n",
       "1                    4.716532          1.0                0.165000  \n",
       "16                  29.929930          1.0                0.996667  \n",
       "17                   4.126719          1.0                0.141429  \n",
       "21                  11.964786          0.0                0.498333  \n",
       "22                   7.621247          1.0                0.165000  "
      ]
     },
     "execution_count": 36,
     "metadata": {},
     "output_type": "execute_result"
    }
   ],
   "source": [
    "df.head()"
   ]
  },
  {
   "cell_type": "code",
   "execution_count": 37,
   "id": "a0d213f2",
   "metadata": {},
   "outputs": [
    {
     "data": {
      "text/plain": [
       "<matplotlib.lines.Line2D at 0x1c3fc2fed00>"
      ]
     },
     "execution_count": 37,
     "metadata": {},
     "output_type": "execute_result"
    },
    {
     "data": {
      "image/png": "[encoded data removed]",
      "text/plain": [
       "<Figure size 1008x432 with 1 Axes>"
      ]
     },
     "metadata": {
      "needs_background": "light"
     },
     "output_type": "display_data"
    }
   ],
   "source": [
    "fun = df['film_daily_rental_rate'].plot(kind='density', figsize=(14,6))\n",
    "fun.axvline(df['film_daily_rental_rate'].mean(), color='red')"
   ]
  },
  {
   "cell_type": "code",
   "execution_count": 38,
   "id": "ce78870d",
   "metadata": {},
   "outputs": [
    {
     "data": {
      "text/html": [
       "<div>\n",
       "<style scoped>\n",
       "    .dataframe tbody tr th:only-of-type {\n",
       "        vertical-align: middle;\n",
       "    }\n",
       "\n",
       "    .dataframe tbody tr th {\n",
       "        vertical-align: top;\n",
       "    }\n",
       "\n",
       "    .dataframe thead th {\n",
       "        text-align: right;\n",
       "    }\n",
       "</style>\n",
       "<table border=\"1\" class=\"dataframe\">\n",
       "  <thead>\n",
       "    <tr style=\"text-align: right;\">\n",
       "      <th></th>\n",
       "      <th>rental_date</th>\n",
       "      <th>return_date</th>\n",
       "      <th>customer_lastname</th>\n",
       "      <th>store_id</th>\n",
       "      <th>rental_store_city</th>\n",
       "      <th>film_title</th>\n",
       "      <th>film_rental_duration</th>\n",
       "      <th>film_rental_rate</th>\n",
       "      <th>film_replacement_cost</th>\n",
       "      <th>film_rating</th>\n",
       "      <th>rental_gain_return</th>\n",
       "      <th>rental_days</th>\n",
       "      <th>film_daily_rental_rate</th>\n",
       "    </tr>\n",
       "    <tr>\n",
       "      <th>rental_id</th>\n",
       "      <th></th>\n",
       "      <th></th>\n",
       "      <th></th>\n",
       "      <th></th>\n",
       "      <th></th>\n",
       "      <th></th>\n",
       "      <th></th>\n",
       "      <th></th>\n",
       "      <th></th>\n",
       "      <th></th>\n",
       "      <th></th>\n",
       "      <th></th>\n",
       "      <th></th>\n",
       "    </tr>\n",
       "  </thead>\n",
       "  <tbody>\n",
       "    <tr>\n",
       "      <th>17</th>\n",
       "      <td>2005-05-25 01:06:36</td>\n",
       "      <td>2005-05-27 00:43:36</td>\n",
       "      <td>OGLESBY</td>\n",
       "      <td>2</td>\n",
       "      <td>Cuernavaca</td>\n",
       "      <td>SPIRIT FLINTSTONES</td>\n",
       "      <td>7</td>\n",
       "      <td>0.99</td>\n",
       "      <td>23.99</td>\n",
       "      <td>R</td>\n",
       "      <td>4.126719</td>\n",
       "      <td>1.0</td>\n",
       "      <td>0.141429</td>\n",
       "    </tr>\n",
       "    <tr>\n",
       "      <th>228</th>\n",
       "      <td>2005-05-26 10:54:28</td>\n",
       "      <td>2005-06-04 09:39:28</td>\n",
       "      <td>CHISHOLM</td>\n",
       "      <td>2</td>\n",
       "      <td>Plock</td>\n",
       "      <td>LAWRENCE LOVE</td>\n",
       "      <td>7</td>\n",
       "      <td>0.99</td>\n",
       "      <td>23.99</td>\n",
       "      <td>NC-17</td>\n",
       "      <td>4.126719</td>\n",
       "      <td>8.0</td>\n",
       "      <td>0.141429</td>\n",
       "    </tr>\n",
       "    <tr>\n",
       "      <th>300</th>\n",
       "      <td>2005-05-26 20:57:00</td>\n",
       "      <td>2005-06-05 01:34:00</td>\n",
       "      <td>PARKER</td>\n",
       "      <td>1</td>\n",
       "      <td>Juazeiro do Norte</td>\n",
       "      <td>DRACULA CRYSTAL</td>\n",
       "      <td>7</td>\n",
       "      <td>0.99</td>\n",
       "      <td>26.99</td>\n",
       "      <td>G</td>\n",
       "      <td>3.668025</td>\n",
       "      <td>9.0</td>\n",
       "      <td>0.141429</td>\n",
       "    </tr>\n",
       "    <tr>\n",
       "      <th>591</th>\n",
       "      <td>2005-05-28 13:11:04</td>\n",
       "      <td>2005-05-29 17:20:04</td>\n",
       "      <td>MARTINEZ</td>\n",
       "      <td>2</td>\n",
       "      <td>Kimberley</td>\n",
       "      <td>GREASE YOUTH</td>\n",
       "      <td>7</td>\n",
       "      <td>0.99</td>\n",
       "      <td>20.99</td>\n",
       "      <td>G</td>\n",
       "      <td>4.716532</td>\n",
       "      <td>1.0</td>\n",
       "      <td>0.141429</td>\n",
       "    </tr>\n",
       "    <tr>\n",
       "      <th>595</th>\n",
       "      <td>2005-05-28 13:59:54</td>\n",
       "      <td>2005-06-05 15:16:54</td>\n",
       "      <td>WATTS</td>\n",
       "      <td>1</td>\n",
       "      <td>Dayton</td>\n",
       "      <td>MOON BUNCH</td>\n",
       "      <td>7</td>\n",
       "      <td>0.99</td>\n",
       "      <td>20.99</td>\n",
       "      <td>PG</td>\n",
       "      <td>4.716532</td>\n",
       "      <td>8.0</td>\n",
       "      <td>0.141429</td>\n",
       "    </tr>\n",
       "    <tr>\n",
       "      <th>613</th>\n",
       "      <td>2005-05-28 15:27:22</td>\n",
       "      <td>2005-06-02 20:01:22</td>\n",
       "      <td>GUNDERSON</td>\n",
       "      <td>1</td>\n",
       "      <td>Jinzhou</td>\n",
       "      <td>EARTH VISION</td>\n",
       "      <td>7</td>\n",
       "      <td>0.99</td>\n",
       "      <td>29.99</td>\n",
       "      <td>NC-17</td>\n",
       "      <td>3.301100</td>\n",
       "      <td>5.0</td>\n",
       "      <td>0.141429</td>\n",
       "    </tr>\n",
       "    <tr>\n",
       "      <th>614</th>\n",
       "      <td>2005-05-28 15:33:28</td>\n",
       "      <td>2005-06-04 12:27:28</td>\n",
       "      <td>JOY</td>\n",
       "      <td>1</td>\n",
       "      <td>Angra dos Reis</td>\n",
       "      <td>EMPIRE MALKOVICH</td>\n",
       "      <td>7</td>\n",
       "      <td>0.99</td>\n",
       "      <td>26.99</td>\n",
       "      <td>G</td>\n",
       "      <td>3.668025</td>\n",
       "      <td>6.0</td>\n",
       "      <td>0.141429</td>\n",
       "    </tr>\n",
       "    <tr>\n",
       "      <th>664</th>\n",
       "      <td>2005-05-28 21:31:08</td>\n",
       "      <td>2005-06-02 20:56:08</td>\n",
       "      <td>GUAJARDO</td>\n",
       "      <td>1</td>\n",
       "      <td>Vinh</td>\n",
       "      <td>BOONDOCK BALLROOM</td>\n",
       "      <td>7</td>\n",
       "      <td>0.99</td>\n",
       "      <td>14.99</td>\n",
       "      <td>NC-17</td>\n",
       "      <td>6.604403</td>\n",
       "      <td>4.0</td>\n",
       "      <td>0.141429</td>\n",
       "    </tr>\n",
       "    <tr>\n",
       "      <th>667</th>\n",
       "      <td>2005-05-28 21:49:02</td>\n",
       "      <td>2005-05-31 03:07:02</td>\n",
       "      <td>FORSYTHE</td>\n",
       "      <td>1</td>\n",
       "      <td>Patras</td>\n",
       "      <td>SILENCE KANE</td>\n",
       "      <td>7</td>\n",
       "      <td>0.99</td>\n",
       "      <td>23.99</td>\n",
       "      <td>R</td>\n",
       "      <td>4.126719</td>\n",
       "      <td>2.0</td>\n",
       "      <td>0.141429</td>\n",
       "    </tr>\n",
       "    <tr>\n",
       "      <th>672</th>\n",
       "      <td>2005-05-28 22:05:29</td>\n",
       "      <td>2005-06-06 02:10:29</td>\n",
       "      <td>KOWALSKI</td>\n",
       "      <td>1</td>\n",
       "      <td>Sungai Petani</td>\n",
       "      <td>PRIMARY GLASS</td>\n",
       "      <td>7</td>\n",
       "      <td>0.99</td>\n",
       "      <td>16.99</td>\n",
       "      <td>G</td>\n",
       "      <td>5.826957</td>\n",
       "      <td>8.0</td>\n",
       "      <td>0.141429</td>\n",
       "    </tr>\n",
       "  </tbody>\n",
       "</table>\n",
       "</div>"
      ],
      "text/plain": [
       "                  rental_date         return_date customer_lastname  store_id  \\\n",
       "rental_id                                                                       \n",
       "17        2005-05-25 01:06:36 2005-05-27 00:43:36           OGLESBY         2   \n",
       "228       2005-05-26 10:54:28 2005-06-04 09:39:28          CHISHOLM         2   \n",
       "300       2005-05-26 20:57:00 2005-06-05 01:34:00            PARKER         1   \n",
       "591       2005-05-28 13:11:04 2005-05-29 17:20:04          MARTINEZ         2   \n",
       "595       2005-05-28 13:59:54 2005-06-05 15:16:54             WATTS         1   \n",
       "613       2005-05-28 15:27:22 2005-06-02 20:01:22         GUNDERSON         1   \n",
       "614       2005-05-28 15:33:28 2005-06-04 12:27:28               JOY         1   \n",
       "664       2005-05-28 21:31:08 2005-06-02 20:56:08          GUAJARDO         1   \n",
       "667       2005-05-28 21:49:02 2005-05-31 03:07:02          FORSYTHE         1   \n",
       "672       2005-05-28 22:05:29 2005-06-06 02:10:29          KOWALSKI         1   \n",
       "\n",
       "           rental_store_city          film_title  film_rental_duration  \\\n",
       "rental_id                                                                \n",
       "17                Cuernavaca  SPIRIT FLINTSTONES                     7   \n",
       "228                    Plock       LAWRENCE LOVE                     7   \n",
       "300        Juazeiro do Norte     DRACULA CRYSTAL                     7   \n",
       "591                Kimberley        GREASE YOUTH                     7   \n",
       "595                   Dayton          MOON BUNCH                     7   \n",
       "613                  Jinzhou        EARTH VISION                     7   \n",
       "614           Angra dos Reis    EMPIRE MALKOVICH                     7   \n",
       "664                     Vinh   BOONDOCK BALLROOM                     7   \n",
       "667                   Patras        SILENCE KANE                     7   \n",
       "672            Sungai Petani       PRIMARY GLASS                     7   \n",
       "\n",
       "           film_rental_rate  film_replacement_cost film_rating  \\\n",
       "rental_id                                                        \n",
       "17                     0.99                  23.99           R   \n",
       "228                    0.99                  23.99       NC-17   \n",
       "300                    0.99                  26.99           G   \n",
       "591                    0.99                  20.99           G   \n",
       "595                    0.99                  20.99          PG   \n",
       "613                    0.99                  29.99       NC-17   \n",
       "614                    0.99                  26.99           G   \n",
       "664                    0.99                  14.99       NC-17   \n",
       "667                    0.99                  23.99           R   \n",
       "672                    0.99                  16.99           G   \n",
       "\n",
       "           rental_gain_return  rental_days  film_daily_rental_rate  \n",
       "rental_id                                                           \n",
       "17                   4.126719          1.0                0.141429  \n",
       "228                  4.126719          8.0                0.141429  \n",
       "300                  3.668025          9.0                0.141429  \n",
       "591                  4.716532          1.0                0.141429  \n",
       "595                  4.716532          8.0                0.141429  \n",
       "613                  3.301100          5.0                0.141429  \n",
       "614                  3.668025          6.0                0.141429  \n",
       "664                  6.604403          4.0                0.141429  \n",
       "667                  4.126719          2.0                0.141429  \n",
       "672                  5.826957          8.0                0.141429  "
      ]
     },
     "execution_count": 38,
     "metadata": {},
     "output_type": "execute_result"
    }
   ],
   "source": [
    "df.loc[df['film_daily_rental_rate'] == df['film_daily_rental_rate'].min()].head(10)"
   ]
  },
  {
   "cell_type": "code",
   "execution_count": 39,
   "id": "d2e64480",
   "metadata": {},
   "outputs": [
    {
     "data": {
      "text/html": [
       "<div>\n",
       "<style scoped>\n",
       "    .dataframe tbody tr th:only-of-type {\n",
       "        vertical-align: middle;\n",
       "    }\n",
       "\n",
       "    .dataframe tbody tr th {\n",
       "        vertical-align: top;\n",
       "    }\n",
       "\n",
       "    .dataframe thead th {\n",
       "        text-align: right;\n",
       "    }\n",
       "</style>\n",
       "<table border=\"1\" class=\"dataframe\">\n",
       "  <thead>\n",
       "    <tr style=\"text-align: right;\">\n",
       "      <th></th>\n",
       "      <th>rental_date</th>\n",
       "      <th>return_date</th>\n",
       "      <th>customer_lastname</th>\n",
       "      <th>store_id</th>\n",
       "      <th>rental_store_city</th>\n",
       "      <th>film_title</th>\n",
       "      <th>film_rental_duration</th>\n",
       "      <th>film_rental_rate</th>\n",
       "      <th>film_replacement_cost</th>\n",
       "      <th>film_rating</th>\n",
       "      <th>rental_gain_return</th>\n",
       "      <th>rental_days</th>\n",
       "      <th>film_daily_rental_rate</th>\n",
       "    </tr>\n",
       "    <tr>\n",
       "      <th>rental_id</th>\n",
       "      <th></th>\n",
       "      <th></th>\n",
       "      <th></th>\n",
       "      <th></th>\n",
       "      <th></th>\n",
       "      <th></th>\n",
       "      <th></th>\n",
       "      <th></th>\n",
       "      <th></th>\n",
       "      <th></th>\n",
       "      <th></th>\n",
       "      <th></th>\n",
       "      <th></th>\n",
       "    </tr>\n",
       "  </thead>\n",
       "  <tbody>\n",
       "    <tr>\n",
       "      <th>139</th>\n",
       "      <td>2005-05-25 23:00:21</td>\n",
       "      <td>2005-05-29 17:12:21</td>\n",
       "      <td>DOUGLAS</td>\n",
       "      <td>1</td>\n",
       "      <td>Beira</td>\n",
       "      <td>FOOL MOCKINGBIRD</td>\n",
       "      <td>3</td>\n",
       "      <td>4.99</td>\n",
       "      <td>24.99</td>\n",
       "      <td>PG</td>\n",
       "      <td>19.967987</td>\n",
       "      <td>3.0</td>\n",
       "      <td>1.663333</td>\n",
       "    </tr>\n",
       "    <tr>\n",
       "      <th>167</th>\n",
       "      <td>2005-05-26 02:50:31</td>\n",
       "      <td>2005-05-27 03:07:31</td>\n",
       "      <td>CARRANZA</td>\n",
       "      <td>2</td>\n",
       "      <td>Koriyama</td>\n",
       "      <td>SUNRISE LEAGUE</td>\n",
       "      <td>3</td>\n",
       "      <td>4.99</td>\n",
       "      <td>19.99</td>\n",
       "      <td>PG-13</td>\n",
       "      <td>24.962481</td>\n",
       "      <td>1.0</td>\n",
       "      <td>1.663333</td>\n",
       "    </tr>\n",
       "    <tr>\n",
       "      <th>212</th>\n",
       "      <td>2005-05-26 08:34:41</td>\n",
       "      <td>2005-05-30 12:46:41</td>\n",
       "      <td>MURPHY</td>\n",
       "      <td>1</td>\n",
       "      <td>Mysore</td>\n",
       "      <td>SATURDAY LAMBS</td>\n",
       "      <td>3</td>\n",
       "      <td>4.99</td>\n",
       "      <td>28.99</td>\n",
       "      <td>G</td>\n",
       "      <td>17.212832</td>\n",
       "      <td>4.0</td>\n",
       "      <td>1.663333</td>\n",
       "    </tr>\n",
       "    <tr>\n",
       "      <th>227</th>\n",
       "      <td>2005-05-26 10:51:46</td>\n",
       "      <td>2005-05-30 07:24:46</td>\n",
       "      <td>BAUGHMAN</td>\n",
       "      <td>2</td>\n",
       "      <td>Kaliningrad</td>\n",
       "      <td>DAUGHTER MADIGAN</td>\n",
       "      <td>3</td>\n",
       "      <td>4.99</td>\n",
       "      <td>13.99</td>\n",
       "      <td>PG-13</td>\n",
       "      <td>35.668335</td>\n",
       "      <td>3.0</td>\n",
       "      <td>1.663333</td>\n",
       "    </tr>\n",
       "    <tr>\n",
       "      <th>233</th>\n",
       "      <td>2005-05-26 11:43:44</td>\n",
       "      <td>2005-05-28 17:28:44</td>\n",
       "      <td>WAUGH</td>\n",
       "      <td>2</td>\n",
       "      <td>Kuwana</td>\n",
       "      <td>RANGE MOONWALKER</td>\n",
       "      <td>3</td>\n",
       "      <td>4.99</td>\n",
       "      <td>25.99</td>\n",
       "      <td>PG</td>\n",
       "      <td>19.199692</td>\n",
       "      <td>2.0</td>\n",
       "      <td>1.663333</td>\n",
       "    </tr>\n",
       "    <tr>\n",
       "      <th>284</th>\n",
       "      <td>2005-05-26 19:21:44</td>\n",
       "      <td>2005-06-04 14:18:44</td>\n",
       "      <td>MARKHAM</td>\n",
       "      <td>2</td>\n",
       "      <td>Almirante Brown</td>\n",
       "      <td>GARDEN ISLAND</td>\n",
       "      <td>3</td>\n",
       "      <td>4.99</td>\n",
       "      <td>21.99</td>\n",
       "      <td>G</td>\n",
       "      <td>22.692133</td>\n",
       "      <td>8.0</td>\n",
       "      <td>1.663333</td>\n",
       "    </tr>\n",
       "    <tr>\n",
       "      <th>340</th>\n",
       "      <td>2005-05-27 03:55:25</td>\n",
       "      <td>2005-06-04 07:57:25</td>\n",
       "      <td>CHAPMAN</td>\n",
       "      <td>2</td>\n",
       "      <td>Bhilwara</td>\n",
       "      <td>VIRTUAL SPOILERS</td>\n",
       "      <td>3</td>\n",
       "      <td>4.99</td>\n",
       "      <td>14.99</td>\n",
       "      <td>NC-17</td>\n",
       "      <td>33.288859</td>\n",
       "      <td>8.0</td>\n",
       "      <td>1.663333</td>\n",
       "    </tr>\n",
       "    <tr>\n",
       "      <th>505</th>\n",
       "      <td>2005-05-28 02:06:37</td>\n",
       "      <td>2005-05-29 06:57:37</td>\n",
       "      <td>OWENS</td>\n",
       "      <td>1</td>\n",
       "      <td>Caracas</td>\n",
       "      <td>BILKO ANONYMOUS</td>\n",
       "      <td>3</td>\n",
       "      <td>4.99</td>\n",
       "      <td>25.99</td>\n",
       "      <td>PG-13</td>\n",
       "      <td>19.199692</td>\n",
       "      <td>1.0</td>\n",
       "      <td>1.663333</td>\n",
       "    </tr>\n",
       "    <tr>\n",
       "      <th>653</th>\n",
       "      <td>2005-05-28 20:12:20</td>\n",
       "      <td>2005-06-04 14:44:20</td>\n",
       "      <td>THRASHER</td>\n",
       "      <td>1</td>\n",
       "      <td>Adana</td>\n",
       "      <td>CASUALTIES ENCINO</td>\n",
       "      <td>3</td>\n",
       "      <td>4.99</td>\n",
       "      <td>16.99</td>\n",
       "      <td>G</td>\n",
       "      <td>29.370218</td>\n",
       "      <td>6.0</td>\n",
       "      <td>1.663333</td>\n",
       "    </tr>\n",
       "    <tr>\n",
       "      <th>788</th>\n",
       "      <td>2005-05-29 16:13:55</td>\n",
       "      <td>2005-05-31 16:40:55</td>\n",
       "      <td>SLONE</td>\n",
       "      <td>2</td>\n",
       "      <td>Sokoto</td>\n",
       "      <td>SATISFACTION CONFIDENTIAL</td>\n",
       "      <td>3</td>\n",
       "      <td>4.99</td>\n",
       "      <td>26.99</td>\n",
       "      <td>G</td>\n",
       "      <td>18.488329</td>\n",
       "      <td>2.0</td>\n",
       "      <td>1.663333</td>\n",
       "    </tr>\n",
       "  </tbody>\n",
       "</table>\n",
       "</div>"
      ],
      "text/plain": [
       "                  rental_date         return_date customer_lastname  store_id  \\\n",
       "rental_id                                                                       \n",
       "139       2005-05-25 23:00:21 2005-05-29 17:12:21           DOUGLAS         1   \n",
       "167       2005-05-26 02:50:31 2005-05-27 03:07:31          CARRANZA         2   \n",
       "212       2005-05-26 08:34:41 2005-05-30 12:46:41            MURPHY         1   \n",
       "227       2005-05-26 10:51:46 2005-05-30 07:24:46          BAUGHMAN         2   \n",
       "233       2005-05-26 11:43:44 2005-05-28 17:28:44             WAUGH         2   \n",
       "284       2005-05-26 19:21:44 2005-06-04 14:18:44           MARKHAM         2   \n",
       "340       2005-05-27 03:55:25 2005-06-04 07:57:25           CHAPMAN         2   \n",
       "505       2005-05-28 02:06:37 2005-05-29 06:57:37             OWENS         1   \n",
       "653       2005-05-28 20:12:20 2005-06-04 14:44:20          THRASHER         1   \n",
       "788       2005-05-29 16:13:55 2005-05-31 16:40:55             SLONE         2   \n",
       "\n",
       "          rental_store_city                 film_title  film_rental_duration  \\\n",
       "rental_id                                                                      \n",
       "139                   Beira           FOOL MOCKINGBIRD                     3   \n",
       "167                Koriyama             SUNRISE LEAGUE                     3   \n",
       "212                  Mysore             SATURDAY LAMBS                     3   \n",
       "227             Kaliningrad           DAUGHTER MADIGAN                     3   \n",
       "233                  Kuwana           RANGE MOONWALKER                     3   \n",
       "284         Almirante Brown              GARDEN ISLAND                     3   \n",
       "340                Bhilwara           VIRTUAL SPOILERS                     3   \n",
       "505                 Caracas            BILKO ANONYMOUS                     3   \n",
       "653                   Adana          CASUALTIES ENCINO                     3   \n",
       "788                  Sokoto  SATISFACTION CONFIDENTIAL                     3   \n",
       "\n",
       "           film_rental_rate  film_replacement_cost film_rating  \\\n",
       "rental_id                                                        \n",
       "139                    4.99                  24.99          PG   \n",
       "167                    4.99                  19.99       PG-13   \n",
       "212                    4.99                  28.99           G   \n",
       "227                    4.99                  13.99       PG-13   \n",
       "233                    4.99                  25.99          PG   \n",
       "284                    4.99                  21.99           G   \n",
       "340                    4.99                  14.99       NC-17   \n",
       "505                    4.99                  25.99       PG-13   \n",
       "653                    4.99                  16.99           G   \n",
       "788                    4.99                  26.99           G   \n",
       "\n",
       "           rental_gain_return  rental_days  film_daily_rental_rate  \n",
       "rental_id                                                           \n",
       "139                 19.967987          3.0                1.663333  \n",
       "167                 24.962481          1.0                1.663333  \n",
       "212                 17.212832          4.0                1.663333  \n",
       "227                 35.668335          3.0                1.663333  \n",
       "233                 19.199692          2.0                1.663333  \n",
       "284                 22.692133          8.0                1.663333  \n",
       "340                 33.288859          8.0                1.663333  \n",
       "505                 19.199692          1.0                1.663333  \n",
       "653                 29.370218          6.0                1.663333  \n",
       "788                 18.488329          2.0                1.663333  "
      ]
     },
     "execution_count": 39,
     "metadata": {},
     "output_type": "execute_result"
    }
   ],
   "source": [
    "df.loc[df['film_daily_rental_rate'] == df['film_daily_rental_rate'].max()].head(10)"
   ]
  },
  {
   "cell_type": "code",
   "execution_count": 40,
   "id": "3df5826c",
   "metadata": {},
   "outputs": [
    {
     "data": {
      "text/html": [
       "<div>\n",
       "<style scoped>\n",
       "    .dataframe tbody tr th:only-of-type {\n",
       "        vertical-align: middle;\n",
       "    }\n",
       "\n",
       "    .dataframe tbody tr th {\n",
       "        vertical-align: top;\n",
       "    }\n",
       "\n",
       "    .dataframe thead th {\n",
       "        text-align: right;\n",
       "    }\n",
       "</style>\n",
       "<table border=\"1\" class=\"dataframe\">\n",
       "  <thead>\n",
       "    <tr style=\"text-align: right;\">\n",
       "      <th></th>\n",
       "      <th>rental_date</th>\n",
       "      <th>return_date</th>\n",
       "      <th>customer_lastname</th>\n",
       "      <th>store_id</th>\n",
       "      <th>rental_store_city</th>\n",
       "      <th>film_title</th>\n",
       "      <th>film_rental_duration</th>\n",
       "      <th>film_rental_rate</th>\n",
       "      <th>film_replacement_cost</th>\n",
       "      <th>film_rating</th>\n",
       "      <th>rental_gain_return</th>\n",
       "      <th>rental_days</th>\n",
       "      <th>film_daily_rental_rate</th>\n",
       "    </tr>\n",
       "    <tr>\n",
       "      <th>rental_id</th>\n",
       "      <th></th>\n",
       "      <th></th>\n",
       "      <th></th>\n",
       "      <th></th>\n",
       "      <th></th>\n",
       "      <th></th>\n",
       "      <th></th>\n",
       "      <th></th>\n",
       "      <th></th>\n",
       "      <th></th>\n",
       "      <th></th>\n",
       "      <th></th>\n",
       "      <th></th>\n",
       "    </tr>\n",
       "  </thead>\n",
       "  <tbody>\n",
       "    <tr>\n",
       "      <th>1</th>\n",
       "      <td>2005-05-24 22:53:30</td>\n",
       "      <td>2005-05-26 22:04:30</td>\n",
       "      <td>HUNTER</td>\n",
       "      <td>1</td>\n",
       "      <td>guas Lindas de Gois</td>\n",
       "      <td>GOLDMINE TYCOON</td>\n",
       "      <td>6</td>\n",
       "      <td>0.99</td>\n",
       "      <td>20.99</td>\n",
       "      <td>R</td>\n",
       "      <td>4.716532</td>\n",
       "      <td>1.0</td>\n",
       "      <td>0.165000</td>\n",
       "    </tr>\n",
       "    <tr>\n",
       "      <th>16</th>\n",
       "      <td>2005-05-25 00:43:11</td>\n",
       "      <td>2005-05-26 04:42:11</td>\n",
       "      <td>CURLEY</td>\n",
       "      <td>1</td>\n",
       "      <td>Miraj</td>\n",
       "      <td>GUNFIGHTER MUSSOLINI</td>\n",
       "      <td>3</td>\n",
       "      <td>2.99</td>\n",
       "      <td>9.99</td>\n",
       "      <td>PG-13</td>\n",
       "      <td>29.929930</td>\n",
       "      <td>1.0</td>\n",
       "      <td>0.996667</td>\n",
       "    </tr>\n",
       "    <tr>\n",
       "      <th>17</th>\n",
       "      <td>2005-05-25 01:06:36</td>\n",
       "      <td>2005-05-27 00:43:36</td>\n",
       "      <td>OGLESBY</td>\n",
       "      <td>2</td>\n",
       "      <td>Cuernavaca</td>\n",
       "      <td>SPIRIT FLINTSTONES</td>\n",
       "      <td>7</td>\n",
       "      <td>0.99</td>\n",
       "      <td>23.99</td>\n",
       "      <td>R</td>\n",
       "      <td>4.126719</td>\n",
       "      <td>1.0</td>\n",
       "      <td>0.141429</td>\n",
       "    </tr>\n",
       "    <tr>\n",
       "      <th>21</th>\n",
       "      <td>2005-05-25 01:59:46</td>\n",
       "      <td>2005-05-26 01:01:46</td>\n",
       "      <td>MORRELL</td>\n",
       "      <td>1</td>\n",
       "      <td>Cavite</td>\n",
       "      <td>CHITTY LOCK</td>\n",
       "      <td>6</td>\n",
       "      <td>2.99</td>\n",
       "      <td>24.99</td>\n",
       "      <td>G</td>\n",
       "      <td>11.964786</td>\n",
       "      <td>0.0</td>\n",
       "      <td>0.498333</td>\n",
       "    </tr>\n",
       "    <tr>\n",
       "      <th>22</th>\n",
       "      <td>2005-05-25 02:19:23</td>\n",
       "      <td>2005-05-26 04:52:23</td>\n",
       "      <td>FORTIER</td>\n",
       "      <td>1</td>\n",
       "      <td>Chapra</td>\n",
       "      <td>RESURRECTION SILVERADO</td>\n",
       "      <td>6</td>\n",
       "      <td>0.99</td>\n",
       "      <td>12.99</td>\n",
       "      <td>PG</td>\n",
       "      <td>7.621247</td>\n",
       "      <td>1.0</td>\n",
       "      <td>0.165000</td>\n",
       "    </tr>\n",
       "  </tbody>\n",
       "</table>\n",
       "</div>"
      ],
      "text/plain": [
       "                  rental_date         return_date customer_lastname  store_id  \\\n",
       "rental_id                                                                       \n",
       "1         2005-05-24 22:53:30 2005-05-26 22:04:30            HUNTER         1   \n",
       "16        2005-05-25 00:43:11 2005-05-26 04:42:11            CURLEY         1   \n",
       "17        2005-05-25 01:06:36 2005-05-27 00:43:36           OGLESBY         2   \n",
       "21        2005-05-25 01:59:46 2005-05-26 01:01:46           MORRELL         1   \n",
       "22        2005-05-25 02:19:23 2005-05-26 04:52:23           FORTIER         1   \n",
       "\n",
       "             rental_store_city              film_title  film_rental_duration  \\\n",
       "rental_id                                                                      \n",
       "1          guas Lindas de Gois         GOLDMINE TYCOON                     6   \n",
       "16                       Miraj    GUNFIGHTER MUSSOLINI                     3   \n",
       "17                  Cuernavaca      SPIRIT FLINTSTONES                     7   \n",
       "21                      Cavite             CHITTY LOCK                     6   \n",
       "22                      Chapra  RESURRECTION SILVERADO                     6   \n",
       "\n",
       "           film_rental_rate  film_replacement_cost film_rating  \\\n",
       "rental_id                                                        \n",
       "1                      0.99                  20.99           R   \n",
       "16                     2.99                   9.99       PG-13   \n",
       "17                     0.99                  23.99           R   \n",
       "21                     2.99                  24.99           G   \n",
       "22                     0.99                  12.99          PG   \n",
       "\n",
       "           rental_gain_return  rental_days  film_daily_rental_rate  \n",
       "rental_id                                                           \n",
       "1                    4.716532          1.0                0.165000  \n",
       "16                  29.929930          1.0                0.996667  \n",
       "17                   4.126719          1.0                0.141429  \n",
       "21                  11.964786          0.0                0.498333  \n",
       "22                   7.621247          1.0                0.165000  "
      ]
     },
     "execution_count": 40,
     "metadata": {},
     "output_type": "execute_result"
    }
   ],
   "source": [
    "df.head()"
   ]
  },
  {
   "cell_type": "code",
   "execution_count": 41,
   "id": "729b03ef",
   "metadata": {},
   "outputs": [
    {
     "data": {
      "text/plain": [
       "0"
      ]
     },
     "execution_count": 41,
     "metadata": {},
     "output_type": "execute_result"
    }
   ],
   "source": [
    "df.loc[df['rental_store_city'] == 'Lethbridge'].shape[0]"
   ]
  },
  {
   "cell_type": "code",
   "execution_count": 42,
   "id": "0948c876",
   "metadata": {},
   "outputs": [
    {
     "data": {
      "text/html": [
       "<div>\n",
       "<style scoped>\n",
       "    .dataframe tbody tr th:only-of-type {\n",
       "        vertical-align: middle;\n",
       "    }\n",
       "\n",
       "    .dataframe tbody tr th {\n",
       "        vertical-align: top;\n",
       "    }\n",
       "\n",
       "    .dataframe thead th {\n",
       "        text-align: right;\n",
       "    }\n",
       "</style>\n",
       "<table border=\"1\" class=\"dataframe\">\n",
       "  <thead>\n",
       "    <tr style=\"text-align: right;\">\n",
       "      <th></th>\n",
       "      <th>rental_date</th>\n",
       "      <th>return_date</th>\n",
       "      <th>customer_lastname</th>\n",
       "      <th>store_id</th>\n",
       "      <th>rental_store_city</th>\n",
       "      <th>film_title</th>\n",
       "      <th>film_rental_duration</th>\n",
       "      <th>film_rental_rate</th>\n",
       "      <th>film_replacement_cost</th>\n",
       "      <th>film_rating</th>\n",
       "      <th>rental_gain_return</th>\n",
       "      <th>rental_days</th>\n",
       "      <th>film_daily_rental_rate</th>\n",
       "    </tr>\n",
       "    <tr>\n",
       "      <th>rental_id</th>\n",
       "      <th></th>\n",
       "      <th></th>\n",
       "      <th></th>\n",
       "      <th></th>\n",
       "      <th></th>\n",
       "      <th></th>\n",
       "      <th></th>\n",
       "      <th></th>\n",
       "      <th></th>\n",
       "      <th></th>\n",
       "      <th></th>\n",
       "      <th></th>\n",
       "      <th></th>\n",
       "    </tr>\n",
       "  </thead>\n",
       "  <tbody>\n",
       "  </tbody>\n",
       "</table>\n",
       "</div>"
      ],
      "text/plain": [
       "Empty DataFrame\n",
       "Columns: [rental_date, return_date, customer_lastname, store_id, rental_store_city, film_title, film_rental_duration, film_rental_rate, film_replacement_cost, film_rating, rental_gain_return, rental_days, film_daily_rental_rate]\n",
       "Index: []"
      ]
     },
     "execution_count": 42,
     "metadata": {},
     "output_type": "execute_result"
    }
   ],
   "source": [
    "df.loc[df['rental_store_city'] == 'Lethbridge']"
   ]
  },
  {
   "cell_type": "code",
   "execution_count": 43,
   "id": "ca4d63ea",
   "metadata": {},
   "outputs": [
    {
     "data": {
      "text/plain": [
       "(0, 13)"
      ]
     },
     "execution_count": 43,
     "metadata": {},
     "output_type": "execute_result"
    }
   ],
   "source": [
    "df.loc[df['rental_store_city'] == 'Woodridge'].shape"
   ]
  },
  {
   "cell_type": "code",
   "execution_count": 44,
   "id": "2c9fb37c",
   "metadata": {},
   "outputs": [
    {
     "data": {
      "text/plain": [
       "array(['guas Lindas de Gois', 'Miraj', 'Cuernavaca', 'Cavite', 'Chapra',\n",
       "       'Lipetsk', 'NDjamna', 'Vinh', 'Hodeida', 'Katihar', 'Najafabad',\n",
       "       'Shubra al-Khayma', 'Izumisano', 'Mukateve', 'Allende',\n",
       "       'Lengshuijiang', 'Tiefa', 'Dallas', 'Bijapur', 'Mexicali',\n",
       "       'Huixquilucan', 'El Alto', 'Purwakarta', 'Okinawa', 'Maring',\n",
       "       'Braslia', 'Naju', 'Callao', 'Beira', 'Santo Andr', 'La Plata',\n",
       "       'Ahmadnagar', 'Karnal', 'Tsuyama', 'Alvorada', 'Nukualofa',\n",
       "       'Koriyama', 'Oyo', 'Coacalco de Berriozbal', 'Xintai',\n",
       "       's-Hertogenbosch', 'Tartu', 'Mardan', 'Duisburg',\n",
       "       'Juazeiro do Norte', 'Bhavnagar', 'Mysore', 'Changzhou',\n",
       "       'Cuauhtmoc', 'Kaliningrad', 'Plock', 'Kuwana', 'Tonghae', 'Fuyu',\n",
       "       'Jedda', 'Valencia', 'Coatzacoalcos', 'Tangail', 'Ashgabat',\n",
       "       'Baybay', 'Kursk', 'Sunnyvale', 'Huaian', 'Almirante Brown',\n",
       "       'Cabuyao', 'Tanshui', 'Ogbomosho', 'Deba Habe', 'Kimberley',\n",
       "       'Bhilwara', 'Uluberia', 'Celaya', 'Dzerzinsk', 'Qalyub',\n",
       "       'Vijayawada', 'Oulu', 'Munger (Monghyr)', 'Madiun', 'Halle/Saale',\n",
       "       'Usak', 'Tianjin', 'Zalantun', 'Salala', 'San Felipe del Progreso',\n",
       "       'Ciomas', 'Sincelejo', 'Tuguegarao', 'Vilnius', 'Funafuti',\n",
       "       'Escobar', 'Jinchang', 'Lublin', 'Tambaram', 'Le Mans', 'Caracas',\n",
       "       'Ourense (Orense)', 'Okayama', 'Valparai', 'Pingxiang',\n",
       "       'Sultanbeyli', 'Ivanovo', 'Halifax', 'Araatuba', 'Yuzhou',\n",
       "       'Laredo', 'Usolje-Sibirskoje', 'Lapu-Lapu', 'Dayton', 'Loja',\n",
       "       'Linz', 'Jinzhou', 'Angra dos Reis', 'Johannesburg', 'Banjul',\n",
       "       'Xiangfan', 'Arecibo', 'Zapopan', 'Pyongyang', 'Salzburg', 'Adana',\n",
       "       'Cayenne', 'Patras', 'Witten', 'Sungai Petani', 'Cape Coral',\n",
       "       'Kaduna', 'Tabora', 'Okara', 'Gandhinagar', 'Lancaster', 'London',\n",
       "       'Sivas', 'Arak', 'Uijongbu', 'Abu Dhabi', 'Denizli', 'Nagaon',\n",
       "       'Salinas', 'Fuzhou', 'Bchar', 'Xiangtan', 'Gatineau', 'Bucuresti',\n",
       "       'Ezhou', 'Taguig', 'Sokoto', 'Novi Sad', 'Benguela', 'Nam Dinh',\n",
       "       'Teboksary', 'Emmen', 'Rajkot', 'Suihua', 'Zhezqazghan',\n",
       "       'South Hill', 'Batman', 'Jurez', 'Warren', 'A Corua (La Corua)',\n",
       "       'Masqat', 'Qinhuangdao', 'Saint Louis', 'Jastrzebie-Zdrj',\n",
       "       'Halisahar', 'Kamakura', 'Ikerre', 'Springs', 'Patiala', 'Haldia',\n",
       "       'Fengshan', 'Cianjur', 'Yuncheng', 'Nezahualcyotl', 'Sagamihara',\n",
       "       'Hidalgo', 'Atinsk', 'Tel Aviv-Jaffa', 'Tieli', 'Tarsus',\n",
       "       'Roanoke', 'Owo', 'Merlo', 'Dadu', 'Shikarpur', 'Belm', 'Leshan',\n",
       "       'Kirovo-Tepetsk', 'Sanaa', 'Ktahya', 'Pemalang', 'Klerksdorp',\n",
       "       'So Leopoldo', 'Ocumare del Tuy', 'Sterling Heights', 'Tabuk',\n",
       "       'Nantou', 'York', 'Kamyin', 'Erlangen', 'Acua', 'Novoterkassk',\n",
       "       'Kingstown', 'Ibirit', 'Jamalpur', 'Kolpino', 'Graz', 'Shimoga',\n",
       "       'Hanoi', 'Kurgan', 'San Lorenzo', 'Ashdod', 'Gorontalo',\n",
       "       'Syktyvkar', 'Bhimavaram', 'Hagonoy', 'Fukuyama', 'Bratislava',\n",
       "       'Tsaotun', 'Kakamigahara', 'al-Qadarif', 'Avellaneda', 'Ezeiza',\n",
       "       'Rancagua', 'Luzinia', 'Ziguinchor', 'Otsu', 'Hamilton',\n",
       "       'Eskisehir', 'Tanza', 'Gijn', 'Kisumu', 'Tarlac', 'Jelets',\n",
       "       'Syrakusa', 'Iwatsuki', 'Mit Ghamr', 'Fontana', 'Bellevue',\n",
       "       'Inegl', 'Florencia', 'Satna', 'Jodhpur', 'Xinxiang', 'al-Manama',\n",
       "       'Sumy', 'Lubumbashi', 'Pontianak', 'Botosani', 'Bhusawal',\n",
       "       'Rampur', 'Szkesfehrvr', 'Taizz', 'Mwene-Ditu', 'Chandrapur',\n",
       "       'Paarl', 'Torren', 'Imus', 'Bayugan', 'Nakhon Sawan', 'Faaa',\n",
       "       'Bern', 'Iwakuni', 'Akishima', 'Santa Brbara dOeste', 'Arlington',\n",
       "       'Toulouse', 'Nanyang', 'Clarksville', 'Newcastle', 'Garland',\n",
       "       'Datong', 'Guaruj', 'Myingyan', 'Surakarta', 'Songkhla', 'Bamenda',\n",
       "       'Barcelona', 'Chiayi', 'Amroha', 'Ipoh', 'Shaoguan', 'Cam Ranh',\n",
       "       'Daugavpils', 'Stockport', 'Crdoba', 'Battambang', 'Sasebo',\n",
       "       'Athenai', 'Gaziantep', 'Varanasi (Benares)', 'Addis Abeba',\n",
       "       'Salamanca', 'Cuautla', 'Pavlodar', 'Papeete', 'Molodetno',\n",
       "       'Carmen', 'Shivapuri', 'Donostia-San Sebastin', 'Zanzibar',\n",
       "       'Kamarhati', 'Omiya', 'Chungho', 'Uruapan', 'Zeleznogorsk',\n",
       "       'Qomsheh', 'Weifang', 'Lungtan', 'Malm', 'Ranchi', 'Osmaniye',\n",
       "       'El Fuerte', 'Kilis', 'Southend-on-Sea', 'Jining', 'Monywa',\n",
       "       'Akron', 'Idfu', 'Jalib al-Shuyukh', 'Stara Zagora', 'Meixian',\n",
       "       'Hsichuh', 'Vitria de Santo Anto', 'Pak Kret', 'Baiyin',\n",
       "       'Miyakonojo', 'Poos de Caldas', 'Goinia', 'Bag',\n",
       "       'Citt del Vaticano', 'Bergamo', 'Udaipur', 'San Bernardino',\n",
       "       'Palghat (Palakkad)', 'Kansas City', 'Dos Quebradas', 'Rae Bareli',\n",
       "       'al-Ayn', 'Namibe', 'Compton', 'Charlotte Amalie', 'Richmond Hill',\n",
       "       'Iwaki', 'Nabereznyje Telny', 'Yangor', 'Brockton',\n",
       "       'Kowloon and New Kowloon', 'Haining', 'Vaduz', 'Tallahassee',\n",
       "       'Manchester', 'So Bernardo do Campo', 'Atlixco',\n",
       "       'Siliguri (Shiliguri)', 'Beni-Mellal', 'Vila Velha', 'Urawa',\n",
       "       'Czestochowa', 'Tychy', 'Baha Blanca', 'Lima', 'Bhopal',\n",
       "       'Mogiljov', 'Rio Claro', 'Mosul', 'Yantai', 'Emeishan',\n",
       "       'Lhokseumawe', 'Kermanshah', 'Olomouc', 'Rizhao', 'Balurghat',\n",
       "       'Sawhaj', 'Jaroslavl', 'Ashqelon', 'Ruse', 'Jakarta', 'Touliu',\n",
       "       'Pereira', 'Bilbays', 'Antofagasta', 'Jaffna',\n",
       "       'Kamjanets-Podilskyi', 'Changhwa', 'Portoviejo', 'Apeldoorn',\n",
       "       'Tete', 'Purnea (Purnia)', 'Garden Grove', 'Sharja', 'Lilongwe',\n",
       "       'Tafuna', 'Kragujevac', 'Jhansi', 'Bandar Seri Begawan',\n",
       "       'Shimonoseki', 'Botshabelo', 'Phnom Penh', 'Moscow', 'Southport',\n",
       "       'Omdurman', 'Chisinau', 'Lausanne', 'Higashiosaka', 'Trshavn',\n",
       "       'Laiwu', 'Tama', 'Talavera', 'Kurashiki', 'Kalisz', 'Bradford',\n",
       "       'Sullana', 'Greensboro', 'Dundee', 'Nagareyama', 'Anpolis',\n",
       "       'Mwanza', 'Kanchrapara', 'Kitwe', 'Sucre', 'Tabriz', 'Ede',\n",
       "       'Ponce', 'Juiz de Fora', 'Memphis', 'Asuncin', 'Hunuco',\n",
       "       'Baicheng', 'Aurora', 'Uttarpara-Kotrung', 'Matsue', 'Saarbrcken',\n",
       "       'Nuuk', 'Enshi', 'Sousse', 'Ife', 'Skikda', 'Tanauan', 'Zaoyang',\n",
       "       'Mandi Bahauddin', 'Nyeri', 'Bydgoszcz', 'Sanya',\n",
       "       'Huejutla de Reyes', 'Serpuhov', 'Southampton', 'Brindisi', 'Po',\n",
       "       'San Juan Bautista Tuxtepec', 'Blumenau', 'Vancouver',\n",
       "       'Santiago de Compostela', 'Robamba', 'Buenaventura', 'Zhoushan',\n",
       "       'Pjatigorsk', 'Maracabo', 'Esfahan', 'Tongliao', 'al-Hawiya',\n",
       "       'Valle de la Pascua', 'Naala-Porto', 'Wroclaw', 'Ilorin',\n",
       "       'Ciudad del Este', 'Jos Azueta', 'Aden', 'Balikesir', 'Rustenburg',\n",
       "       'Joliet', 'Cuman', 'Soshanguve', 'Sorocaba', 'Ondo', 'Peoria',\n",
       "       'Gulbarga', 'Ozamis', 'Sirjan', 'Haiphong', 'Laohekou', 'Yerevan',\n",
       "       'Santa Rosa', 'Simferopol', 'Sumqayit', 'Vicente Lpez',\n",
       "       'Mandaluyong', 'Quilmes', 'Effon-Alaiye', 'Saint-Denis',\n",
       "       'Shenzhen', 'La Romana', 'Binzhou', 'Chatsworth', 'Dhule (Dhulia)',\n",
       "       'Citrus Heights', 'Kimchon', 'Daxian', 'Korolev', 'La Paz', 'Hino',\n",
       "       'Niznekamsk', 'Abha', 'Siegen', 'Yamuna Nagar', 'Brescia',\n",
       "       'Liaocheng', 'Probolinggo', 'Dhaka', 'Ueda', 'Hami',\n",
       "       'Pangkal Pinang', 'Hubli-Dharwad', 'Etawah',\n",
       "       'Santiago de los Caballeros', 'Hohhot', 'Yingkou',\n",
       "       'Augusta-Richmond County', 'Coquimbo', 'Yinchuan', 'Alessandria',\n",
       "       'Mannheim', 'Adoni', 'Kanazawa', 'Birgunj', 'Guadalajara',\n",
       "       'Berhampore (Baharampur)', 'Santa F', 'Smolensk', 'Korla',\n",
       "       'Boksburg', 'Tandil', 'Maikop', 'Yaound', 'Ambattur', 'Iligan',\n",
       "       'Brest', 'Oshawa', 'Liepaja', 'al-Qatif', 'Boa Vista',\n",
       "       'Pachuca de Soto', 'Batna', 'Cheju', 'Davao', 'Firozabad', 'Pune',\n",
       "       'San Miguel de Tucumn', 'Lincoln', 'Baku', 'Pudukkottai',\n",
       "       'Shahr-e Kord', 'San Felipe de Puerto Plata', 'Parbhani', 'Jaipur',\n",
       "       'Dongying', 'El Monte', 'Sambhal', 'Zaria', 'Mahajanga',\n",
       "       'Benin City', 'Monclova', 'Pathankot', 'Amersfoort', 'Ljubertsy',\n",
       "       'Udine', 'Kumbakonam', 'Matamoros', 'Nha Trang', 'Hiroshima',\n",
       "       'Tokat', 'Aparecida de Goinia', 'Elista', 'Gingoog', 'Livorno',\n",
       "       'Junan', 'Allappuzha (Alleppey)', 'Onomichi', 'Ciparay', 'Bat Yam',\n",
       "       'Shanwei', 'Nador', 'Sal', 'Kabul', 'Kuching', 'Grand Prairie',\n",
       "       'Rockford', 'Isesaki', 'Hoshiarpur', 'Sogamoso', 'Balaiha',\n",
       "       'Basel', 'Konotop', 'Valle de Santiago', 'Bislig', 'ostka'],\n",
       "      dtype=object)"
      ]
     },
     "execution_count": 44,
     "metadata": {},
     "output_type": "execute_result"
    }
   ],
   "source": [
    "df['rental_store_city'].unique()"
   ]
  },
  {
   "cell_type": "code",
   "execution_count": 45,
   "id": "8f5cbeef",
   "metadata": {},
   "outputs": [
    {
     "data": {
      "text/plain": [
       "PG       4\n",
       "G        4\n",
       "PG-13    4\n",
       "NC-17    2\n",
       "R        1\n",
       "Name: film_rating, dtype: int64"
      ]
     },
     "execution_count": 45,
     "metadata": {},
     "output_type": "execute_result"
    }
   ],
   "source": [
    "df.loc[df['rental_store_city'] == 'London', 'film_rating'].value_counts()"
   ]
  },
  {
   "cell_type": "code",
   "execution_count": 46,
   "id": "39b3dcdf",
   "metadata": {},
   "outputs": [
    {
     "data": {
      "text/plain": [
       "<AxesSubplot:>"
      ]
     },
     "execution_count": 46,
     "metadata": {},
     "output_type": "execute_result"
    },
    {
     "data": {
      "image/png": "[encoded data removed]",
      "text/plain": [
       "<Figure size 1008x432 with 1 Axes>"
      ]
     },
     "metadata": {
      "needs_background": "light"
     },
     "output_type": "display_data"
    }
   ],
   "source": [
    "df.loc[df['rental_store_city'] == 'London', 'film_rating'].value_counts().plot(kind='bar', figsize=(14,6))"
   ]
  },
  {
   "cell_type": "code",
   "execution_count": 47,
   "id": "53b4f4e4",
   "metadata": {},
   "outputs": [
    {
     "data": {
      "text/html": [
       "<div>\n",
       "<style scoped>\n",
       "    .dataframe tbody tr th:only-of-type {\n",
       "        vertical-align: middle;\n",
       "    }\n",
       "\n",
       "    .dataframe tbody tr th {\n",
       "        vertical-align: top;\n",
       "    }\n",
       "\n",
       "    .dataframe thead th {\n",
       "        text-align: right;\n",
       "    }\n",
       "</style>\n",
       "<table border=\"1\" class=\"dataframe\">\n",
       "  <thead>\n",
       "    <tr style=\"text-align: right;\">\n",
       "      <th></th>\n",
       "      <th>rental_date</th>\n",
       "      <th>return_date</th>\n",
       "      <th>customer_lastname</th>\n",
       "      <th>store_id</th>\n",
       "      <th>rental_store_city</th>\n",
       "      <th>film_title</th>\n",
       "      <th>film_rental_duration</th>\n",
       "      <th>film_rental_rate</th>\n",
       "      <th>film_replacement_cost</th>\n",
       "      <th>film_rating</th>\n",
       "      <th>rental_gain_return</th>\n",
       "      <th>rental_days</th>\n",
       "      <th>film_daily_rental_rate</th>\n",
       "    </tr>\n",
       "    <tr>\n",
       "      <th>rental_id</th>\n",
       "      <th></th>\n",
       "      <th></th>\n",
       "      <th></th>\n",
       "      <th></th>\n",
       "      <th></th>\n",
       "      <th></th>\n",
       "      <th></th>\n",
       "      <th></th>\n",
       "      <th></th>\n",
       "      <th></th>\n",
       "      <th></th>\n",
       "      <th></th>\n",
       "      <th></th>\n",
       "    </tr>\n",
       "  </thead>\n",
       "  <tbody>\n",
       "    <tr>\n",
       "      <th>6183</th>\n",
       "      <td>2005-07-11 11:14:35</td>\n",
       "      <td>2005-07-16 15:35:35</td>\n",
       "      <td>YANEZ</td>\n",
       "      <td>1</td>\n",
       "      <td>Brest</td>\n",
       "      <td>STREETCAR INTENTIONS</td>\n",
       "      <td>5</td>\n",
       "      <td>4.99</td>\n",
       "      <td>11.99</td>\n",
       "      <td>R</td>\n",
       "      <td>41.618015</td>\n",
       "      <td>5.0</td>\n",
       "      <td>0.998</td>\n",
       "    </tr>\n",
       "    <tr>\n",
       "      <th>11549</th>\n",
       "      <td>2005-08-17 01:01:48</td>\n",
       "      <td>2005-08-19 21:24:48</td>\n",
       "      <td>YANEZ</td>\n",
       "      <td>2</td>\n",
       "      <td>Brest</td>\n",
       "      <td>VIRGINIAN PLUTO</td>\n",
       "      <td>5</td>\n",
       "      <td>0.99</td>\n",
       "      <td>22.99</td>\n",
       "      <td>R</td>\n",
       "      <td>4.306220</td>\n",
       "      <td>2.0</td>\n",
       "      <td>0.198</td>\n",
       "    </tr>\n",
       "  </tbody>\n",
       "</table>\n",
       "</div>"
      ],
      "text/plain": [
       "                  rental_date         return_date customer_lastname  store_id  \\\n",
       "rental_id                                                                       \n",
       "6183      2005-07-11 11:14:35 2005-07-16 15:35:35             YANEZ         1   \n",
       "11549     2005-08-17 01:01:48 2005-08-19 21:24:48             YANEZ         2   \n",
       "\n",
       "          rental_store_city            film_title  film_rental_duration  \\\n",
       "rental_id                                                                 \n",
       "6183                  Brest  STREETCAR INTENTIONS                     5   \n",
       "11549                 Brest       VIRGINIAN PLUTO                     5   \n",
       "\n",
       "           film_rental_rate  film_replacement_cost film_rating  \\\n",
       "rental_id                                                        \n",
       "6183                   4.99                  11.99           R   \n",
       "11549                  0.99                  22.99           R   \n",
       "\n",
       "           rental_gain_return  rental_days  film_daily_rental_rate  \n",
       "rental_id                                                           \n",
       "6183                41.618015          5.0                   0.998  \n",
       "11549                4.306220          2.0                   0.198  "
      ]
     },
     "execution_count": 47,
     "metadata": {},
     "output_type": "execute_result"
    }
   ],
   "source": [
    "df.loc[df['rental_store_city'] == 'Brest']"
   ]
  },
  {
   "cell_type": "code",
   "execution_count": 48,
   "id": "0c652d89",
   "metadata": {},
   "outputs": [
    {
     "data": {
      "text/plain": [
       "London           15\n",
       "Halisahar        14\n",
       "Usak             12\n",
       "Changzhou        12\n",
       "Fukuyama         12\n",
       "                 ..\n",
       "Hino              1\n",
       "Shivapuri         1\n",
       "ostka             1\n",
       "Ktahya            1\n",
       "Hubli-Dharwad     1\n",
       "Name: rental_store_city, Length: 595, dtype: int64"
      ]
     },
     "execution_count": 48,
     "metadata": {},
     "output_type": "execute_result"
    }
   ],
   "source": [
    "df['rental_store_city'].value_counts()"
   ]
  },
  {
   "cell_type": "code",
   "execution_count": 49,
   "id": "735b2fde",
   "metadata": {},
   "outputs": [
    {
     "data": {
      "text/plain": [
       "(14, 13)"
      ]
     },
     "execution_count": 49,
     "metadata": {},
     "output_type": "execute_result"
    }
   ],
   "source": [
    "df.loc[df['rental_store_city'] == 'Halisahar'].shape"
   ]
  },
  {
   "cell_type": "code",
   "execution_count": 50,
   "id": "798c4d47",
   "metadata": {},
   "outputs": [
    {
     "data": {
      "text/plain": [
       "(5, 13)"
      ]
     },
     "execution_count": 50,
     "metadata": {},
     "output_type": "execute_result"
    }
   ],
   "source": [
    "df.loc[(df['rental_store_city'] == 'Halisahar') & (df['film_rental_duration'] > 5)].shape"
   ]
  },
  {
   "cell_type": "code",
   "execution_count": 51,
   "id": "e8a26a47",
   "metadata": {},
   "outputs": [
    {
     "data": {
      "text/html": [
       "<div>\n",
       "<style scoped>\n",
       "    .dataframe tbody tr th:only-of-type {\n",
       "        vertical-align: middle;\n",
       "    }\n",
       "\n",
       "    .dataframe tbody tr th {\n",
       "        vertical-align: top;\n",
       "    }\n",
       "\n",
       "    .dataframe thead th {\n",
       "        text-align: right;\n",
       "    }\n",
       "</style>\n",
       "<table border=\"1\" class=\"dataframe\">\n",
       "  <thead>\n",
       "    <tr style=\"text-align: right;\">\n",
       "      <th></th>\n",
       "      <th>rental_date</th>\n",
       "      <th>return_date</th>\n",
       "      <th>customer_lastname</th>\n",
       "      <th>store_id</th>\n",
       "      <th>rental_store_city</th>\n",
       "      <th>film_title</th>\n",
       "      <th>film_rental_duration</th>\n",
       "      <th>film_rental_rate</th>\n",
       "      <th>film_replacement_cost</th>\n",
       "      <th>film_rating</th>\n",
       "      <th>rental_gain_return</th>\n",
       "      <th>rental_days</th>\n",
       "      <th>film_daily_rental_rate</th>\n",
       "    </tr>\n",
       "    <tr>\n",
       "      <th>rental_id</th>\n",
       "      <th></th>\n",
       "      <th></th>\n",
       "      <th></th>\n",
       "      <th></th>\n",
       "      <th></th>\n",
       "      <th></th>\n",
       "      <th></th>\n",
       "      <th></th>\n",
       "      <th></th>\n",
       "      <th></th>\n",
       "      <th></th>\n",
       "      <th></th>\n",
       "      <th></th>\n",
       "    </tr>\n",
       "  </thead>\n",
       "  <tbody>\n",
       "    <tr>\n",
       "      <th>16</th>\n",
       "      <td>2005-05-25 00:43:11</td>\n",
       "      <td>2005-05-26 04:42:11</td>\n",
       "      <td>CURLEY</td>\n",
       "      <td>1</td>\n",
       "      <td>Miraj</td>\n",
       "      <td>GUNFIGHTER MUSSOLINI</td>\n",
       "      <td>3</td>\n",
       "      <td>2.99</td>\n",
       "      <td>9.99</td>\n",
       "      <td>PG-13</td>\n",
       "      <td>29.929930</td>\n",
       "      <td>1.0</td>\n",
       "      <td>0.996667</td>\n",
       "    </tr>\n",
       "    <tr>\n",
       "      <th>17</th>\n",
       "      <td>2005-05-25 01:06:36</td>\n",
       "      <td>2005-05-27 00:43:36</td>\n",
       "      <td>OGLESBY</td>\n",
       "      <td>2</td>\n",
       "      <td>Cuernavaca</td>\n",
       "      <td>SPIRIT FLINTSTONES</td>\n",
       "      <td>7</td>\n",
       "      <td>0.99</td>\n",
       "      <td>23.99</td>\n",
       "      <td>R</td>\n",
       "      <td>4.126719</td>\n",
       "      <td>1.0</td>\n",
       "      <td>0.141429</td>\n",
       "    </tr>\n",
       "    <tr>\n",
       "      <th>29</th>\n",
       "      <td>2005-05-25 03:47:12</td>\n",
       "      <td>2005-05-30 00:31:12</td>\n",
       "      <td>TURNER</td>\n",
       "      <td>2</td>\n",
       "      <td>Lipetsk</td>\n",
       "      <td>MUSKETEERS WAIT</td>\n",
       "      <td>7</td>\n",
       "      <td>4.99</td>\n",
       "      <td>17.99</td>\n",
       "      <td>PG</td>\n",
       "      <td>27.737632</td>\n",
       "      <td>4.0</td>\n",
       "      <td>0.712857</td>\n",
       "    </tr>\n",
       "    <tr>\n",
       "      <th>37</th>\n",
       "      <td>2005-05-25 04:44:31</td>\n",
       "      <td>2005-05-29 01:03:31</td>\n",
       "      <td>ELROD</td>\n",
       "      <td>2</td>\n",
       "      <td>NDjamna</td>\n",
       "      <td>HARRY IDAHO</td>\n",
       "      <td>5</td>\n",
       "      <td>4.99</td>\n",
       "      <td>18.99</td>\n",
       "      <td>PG-13</td>\n",
       "      <td>26.276988</td>\n",
       "      <td>3.0</td>\n",
       "      <td>0.998000</td>\n",
       "    </tr>\n",
       "    <tr>\n",
       "      <th>60</th>\n",
       "      <td>2005-05-25 08:58:25</td>\n",
       "      <td>2005-05-30 14:14:25</td>\n",
       "      <td>ALLARD</td>\n",
       "      <td>2</td>\n",
       "      <td>Hodeida</td>\n",
       "      <td>FORRESTER COMANCHEROS</td>\n",
       "      <td>7</td>\n",
       "      <td>4.99</td>\n",
       "      <td>22.99</td>\n",
       "      <td>NC-17</td>\n",
       "      <td>21.705089</td>\n",
       "      <td>5.0</td>\n",
       "      <td>0.712857</td>\n",
       "    </tr>\n",
       "    <tr>\n",
       "      <th>...</th>\n",
       "      <td>...</td>\n",
       "      <td>...</td>\n",
       "      <td>...</td>\n",
       "      <td>...</td>\n",
       "      <td>...</td>\n",
       "      <td>...</td>\n",
       "      <td>...</td>\n",
       "      <td>...</td>\n",
       "      <td>...</td>\n",
       "      <td>...</td>\n",
       "      <td>...</td>\n",
       "      <td>...</td>\n",
       "      <td>...</td>\n",
       "    </tr>\n",
       "    <tr>\n",
       "      <th>16020</th>\n",
       "      <td>2005-08-23 21:34:33</td>\n",
       "      <td>2005-09-01 18:17:33</td>\n",
       "      <td>TROUT</td>\n",
       "      <td>2</td>\n",
       "      <td>Kursk</td>\n",
       "      <td>ELEPHANT TROJAN</td>\n",
       "      <td>4</td>\n",
       "      <td>4.99</td>\n",
       "      <td>24.99</td>\n",
       "      <td>PG-13</td>\n",
       "      <td>19.967987</td>\n",
       "      <td>8.0</td>\n",
       "      <td>1.247500</td>\n",
       "    </tr>\n",
       "    <tr>\n",
       "      <th>16029</th>\n",
       "      <td>2005-08-23 21:54:02</td>\n",
       "      <td>2005-08-29 23:55:02</td>\n",
       "      <td>GORDON</td>\n",
       "      <td>2</td>\n",
       "      <td>Kilis</td>\n",
       "      <td>WAIT CIDER</td>\n",
       "      <td>3</td>\n",
       "      <td>0.99</td>\n",
       "      <td>9.99</td>\n",
       "      <td>PG-13</td>\n",
       "      <td>9.909910</td>\n",
       "      <td>6.0</td>\n",
       "      <td>0.330000</td>\n",
       "    </tr>\n",
       "    <tr>\n",
       "      <th>16035</th>\n",
       "      <td>2005-08-23 22:08:04</td>\n",
       "      <td>2005-08-28 03:46:04</td>\n",
       "      <td>BAKER</td>\n",
       "      <td>2</td>\n",
       "      <td>Nanyang</td>\n",
       "      <td>MAGNOLIA FORRESTER</td>\n",
       "      <td>4</td>\n",
       "      <td>0.99</td>\n",
       "      <td>28.99</td>\n",
       "      <td>PG-13</td>\n",
       "      <td>3.414971</td>\n",
       "      <td>4.0</td>\n",
       "      <td>0.247500</td>\n",
       "    </tr>\n",
       "    <tr>\n",
       "      <th>16037</th>\n",
       "      <td>2005-08-23 22:13:04</td>\n",
       "      <td>2005-09-01 02:48:04</td>\n",
       "      <td>PHILLIPS</td>\n",
       "      <td>2</td>\n",
       "      <td>Antofagasta</td>\n",
       "      <td>FROST HEAD</td>\n",
       "      <td>5</td>\n",
       "      <td>0.99</td>\n",
       "      <td>13.99</td>\n",
       "      <td>PG</td>\n",
       "      <td>7.076483</td>\n",
       "      <td>8.0</td>\n",
       "      <td>0.198000</td>\n",
       "    </tr>\n",
       "    <tr>\n",
       "      <th>16042</th>\n",
       "      <td>2005-08-23 22:20:40</td>\n",
       "      <td>2005-08-24 17:54:40</td>\n",
       "      <td>HICKS</td>\n",
       "      <td>2</td>\n",
       "      <td>Mukateve</td>\n",
       "      <td>NOTORIOUS REUNION</td>\n",
       "      <td>7</td>\n",
       "      <td>0.99</td>\n",
       "      <td>9.99</td>\n",
       "      <td>NC-17</td>\n",
       "      <td>9.909910</td>\n",
       "      <td>0.0</td>\n",
       "      <td>0.141429</td>\n",
       "    </tr>\n",
       "  </tbody>\n",
       "</table>\n",
       "<p>1803 rows × 13 columns</p>\n",
       "</div>"
      ],
      "text/plain": [
       "                  rental_date         return_date customer_lastname  store_id  \\\n",
       "rental_id                                                                       \n",
       "16        2005-05-25 00:43:11 2005-05-26 04:42:11            CURLEY         1   \n",
       "17        2005-05-25 01:06:36 2005-05-27 00:43:36           OGLESBY         2   \n",
       "29        2005-05-25 03:47:12 2005-05-30 00:31:12            TURNER         2   \n",
       "37        2005-05-25 04:44:31 2005-05-29 01:03:31             ELROD         2   \n",
       "60        2005-05-25 08:58:25 2005-05-30 14:14:25            ALLARD         2   \n",
       "...                       ...                 ...               ...       ...   \n",
       "16020     2005-08-23 21:34:33 2005-09-01 18:17:33             TROUT         2   \n",
       "16029     2005-08-23 21:54:02 2005-08-29 23:55:02            GORDON         2   \n",
       "16035     2005-08-23 22:08:04 2005-08-28 03:46:04             BAKER         2   \n",
       "16037     2005-08-23 22:13:04 2005-09-01 02:48:04          PHILLIPS         2   \n",
       "16042     2005-08-23 22:20:40 2005-08-24 17:54:40             HICKS         2   \n",
       "\n",
       "          rental_store_city             film_title  film_rental_duration  \\\n",
       "rental_id                                                                  \n",
       "16                    Miraj   GUNFIGHTER MUSSOLINI                     3   \n",
       "17               Cuernavaca     SPIRIT FLINTSTONES                     7   \n",
       "29                  Lipetsk        MUSKETEERS WAIT                     7   \n",
       "37                  NDjamna            HARRY IDAHO                     5   \n",
       "60                  Hodeida  FORRESTER COMANCHEROS                     7   \n",
       "...                     ...                    ...                   ...   \n",
       "16020                 Kursk        ELEPHANT TROJAN                     4   \n",
       "16029                 Kilis             WAIT CIDER                     3   \n",
       "16035               Nanyang     MAGNOLIA FORRESTER                     4   \n",
       "16037           Antofagasta             FROST HEAD                     5   \n",
       "16042              Mukateve      NOTORIOUS REUNION                     7   \n",
       "\n",
       "           film_rental_rate  film_replacement_cost film_rating  \\\n",
       "rental_id                                                        \n",
       "16                     2.99                   9.99       PG-13   \n",
       "17                     0.99                  23.99           R   \n",
       "29                     4.99                  17.99          PG   \n",
       "37                     4.99                  18.99       PG-13   \n",
       "60                     4.99                  22.99       NC-17   \n",
       "...                     ...                    ...         ...   \n",
       "16020                  4.99                  24.99       PG-13   \n",
       "16029                  0.99                   9.99       PG-13   \n",
       "16035                  0.99                  28.99       PG-13   \n",
       "16037                  0.99                  13.99          PG   \n",
       "16042                  0.99                   9.99       NC-17   \n",
       "\n",
       "           rental_gain_return  rental_days  film_daily_rental_rate  \n",
       "rental_id                                                           \n",
       "16                  29.929930          1.0                0.996667  \n",
       "17                   4.126719          1.0                0.141429  \n",
       "29                  27.737632          4.0                0.712857  \n",
       "37                  26.276988          3.0                0.998000  \n",
       "60                  21.705089          5.0                0.712857  \n",
       "...                       ...          ...                     ...  \n",
       "16020               19.967987          8.0                1.247500  \n",
       "16029                9.909910          6.0                0.330000  \n",
       "16035                3.414971          4.0                0.247500  \n",
       "16037                7.076483          8.0                0.198000  \n",
       "16042                9.909910          0.0                0.141429  \n",
       "\n",
       "[1803 rows x 13 columns]"
      ]
     },
     "execution_count": 51,
     "metadata": {},
     "output_type": "execute_result"
    }
   ],
   "source": [
    "df.loc[(df['store_id'] == 2) | (df['film_replacement_cost'] < 10.99)]"
   ]
  },
  {
   "cell_type": "code",
   "execution_count": 52,
   "id": "8574e502",
   "metadata": {},
   "outputs": [
    {
     "data": {
      "text/plain": [
       "(1803, 13)"
      ]
     },
     "execution_count": 52,
     "metadata": {},
     "output_type": "execute_result"
    }
   ],
   "source": [
    "df.loc[(df['store_id'] == 2) | (df['film_replacement_cost'] < 10.99)].shape"
   ]
  },
  {
   "cell_type": "code",
   "execution_count": null,
   "id": "1ebf8324",
   "metadata": {},
   "outputs": [],
   "source": []
  }
 ],
 "metadata": {
  "kernelspec": {
   "display_name": "Python 3",
   "language": "python",
   "name": "python3"
  },
  "language_info": {
   "codemirror_mode": {
    "name": "ipython",
    "version": 3
   },
   "file_extension": ".py",
   "mimetype": "text/x-python",
   "name": "python",
   "nbconvert_exporter": "python",
   "pygments_lexer": "ipython3",
   "version": "3.8.8"
  }
 },
 "nbformat": 4,
 "nbformat_minor": 5
}
